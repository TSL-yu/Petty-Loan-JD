{
 "cells": [
  {
   "cell_type": "code",
   "execution_count": null,
   "metadata": {},
   "outputs": [],
   "source": [
    "import pandas as pd\n",
    "import imblearn\n",
    "import numpy as np\n",
    "import traceback\n",
    "pd.set_option('display.max_rows', 20,'max_info_columns', 9999,'display.max_columns', 9999)\n",
    "import matplotlib.pyplot as plt\n",
    "import copy\n",
    "%matplotlib inline\n",
    "import seaborn as sns\n",
    "from sklearn import preprocessing,metrics\n",
    "import datetime as dt\n",
    "import gc\n",
    "from sklearn import svm,linear_model\n",
    "from collections import Counter\n",
    "from sklearn.model_selection import train_test_split\n",
    "import csv\n",
    "import xgboost as xgb\n",
    "import lightgbm as lgb\n",
    "from sklearn.model_selection import GridSearchCV\n",
    "from sklearn.preprocessing import OneHotEncoder,Imputer\n",
    "\n",
    "from sklearn.ensemble import RandomForestRegressor,VotingClassifier\n",
    "from sklearn.kernel_ridge import KernelRidge\n",
    "from sklearn import neighbors\n",
    "from sklearn.preprocessing import scale\n",
    "from sklearn.model_selection import StratifiedKFold\n",
    "\n",
    "\n",
    "from sklearn.feature_selection import RFE \n",
    "from sklearn.preprocessing import StandardScaler\n",
    "from sklearn.model_selection import KFold\n",
    "from sklearn.model_selection import RandomizedSearchCV\n",
    "from sklearn.cross_validation import  cross_val_score\n",
    "from sklearn.preprocessing import LabelEncoder\n",
    "import warnings\n",
    "import xlrd\n",
    "warnings.filterwarnings('ignore')"
   ]
  },
  {
   "cell_type": "code",
   "execution_count": null,
   "metadata": {},
   "outputs": [],
   "source": [
    "train=pd.read_csv('/home/tsl-yu/文档/天池-精准医疗/d_train_20180102.csv')\n",
    "\n",
    "test=pd.read_csv('/home/tsl-yu/文档/天池-精准医疗/d_test_A_20180102.csv')\n",
    "\n",
    "mer=pd.read_excel('/home/tsl-yu/文档/天池-精准医疗/std.xlsx')"
   ]
  },
  {
   "cell_type": "markdown",
   "metadata": {},
   "source": [
    "## 性别处理函数 "
   ]
  },
  {
   "cell_type": "code",
   "execution_count": null,
   "metadata": {},
   "outputs": [],
   "source": [
    "def sex(df):\n",
    "    col=df.columns\n",
    "    dic={ '男': 0 ,'女':1  }\n",
    "    for c in col:\n",
    "        if c=='性别':\n",
    "            df[c]=df[c].map(dic)\n",
    "            \n",
    "    return df"
   ]
  },
  {
   "cell_type": "code",
   "execution_count": null,
   "metadata": {},
   "outputs": [],
   "source": []
  },
  {
   "cell_type": "markdown",
   "metadata": {},
   "source": [
    "## 年龄范围选择 "
   ]
  },
  {
   "cell_type": "code",
   "execution_count": null,
   "metadata": {},
   "outputs": [],
   "source": [
    "def select_age(df,n=10,m=90):\n",
    "    df=df[df['年龄']>n][df['年龄']<m]\n",
    "    return df"
   ]
  },
  {
   "cell_type": "markdown",
   "metadata": {},
   "source": [
    "## label范围选择 "
   ]
  },
  {
   "cell_type": "code",
   "execution_count": null,
   "metadata": {},
   "outputs": [],
   "source": [
    "def select_label(df):\n",
    "    \n",
    "    ma=np.percentile(df['血糖'],98)\n",
    "    df=df[df['血糖']<ma]\n",
    "    return df"
   ]
  },
  {
   "cell_type": "markdown",
   "metadata": {},
   "source": [
    "## 年龄阶段划分函数 "
   ]
  },
  {
   "cell_type": "code",
   "execution_count": null,
   "metadata": {},
   "outputs": [],
   "source": [
    "def age_split(df,n=5):\n",
    "    col=df.columns\n",
    "    \n",
    "    for c in col:\n",
    "        if c=='年龄':\n",
    "            df['age_cata']=pd.cut(df[c],n,labels=False)\n",
    "            \n",
    "    return df"
   ]
  },
  {
   "cell_type": "markdown",
   "metadata": {},
   "source": [
    "##  空值填充|"
   ]
  },
  {
   "cell_type": "code",
   "execution_count": null,
   "metadata": {},
   "outputs": [],
   "source": [
    "def nul_fill(df):\n",
    "    for col in df.columns:\n",
    "        l=df[col][df[col].isnull()]\n",
    "        if len(l)!=len(df[col]):\n",
    "            mean=np.nanmean(df[col])\n",
    "            df[col]=df[col].fillna(mean)\n",
    "        \n",
    "    return df"
   ]
  },
  {
   "cell_type": "markdown",
   "metadata": {},
   "source": [
    "## 日期处理函数 "
   ]
  },
  {
   "cell_type": "code",
   "execution_count": null,
   "metadata": {},
   "outputs": [],
   "source": [
    "def pro_date(df):\n",
    "    col=df.columns\n",
    "    \n",
    "    for c in col:\n",
    "        if c=='体检日期':\n",
    "            df['体检日期']=[dt.datetime.strptime(str,'%d/%m/%Y') for str in df['体检日期']]\n",
    "            \n",
    "            df['month']=[date.month for date in df['体检日期']]\n",
    "            df['day']=[date.day for date in df['体检日期']]\n",
    "            df['weekday']=[date.dayofweek for date in df['体检日期']]\n",
    "            df.drop(c,axis=1,inplace=True)\n",
    "    return df"
   ]
  },
  {
   "cell_type": "markdown",
   "metadata": {},
   "source": [
    "##  去掉空值超过0.7的函数"
   ]
  },
  {
   "cell_type": "code",
   "execution_count": null,
   "metadata": {},
   "outputs": [],
   "source": [
    "def drop_null(df):\n",
    "    for col in df.columns:\n",
    "        a=df[col].isnull().sum()\n",
    "        if a>len(df[col])*0.7:\n",
    "            df=df.drop(col,axis=1)\n",
    "            \n",
    "    return df"
   ]
  },
  {
   "cell_type": "markdown",
   "metadata": {},
   "source": [
    "##  以年龄、性别为依据，分组填充"
   ]
  },
  {
   "cell_type": "code",
   "execution_count": null,
   "metadata": {},
   "outputs": [],
   "source": [
    "def fill_nul(df,n=27):\n",
    "    col=df.columns    \n",
    "    for c in col:\n",
    "        if c=='年龄':\n",
    "            df['split']=pd.cut(df[c],n,labels=False)\n",
    "         \n",
    "    for age,group in df.groupby('split'):\n",
    "            for sex,data in group.groupby('性别'):\n",
    "                index=data.index\n",
    "                df.iloc[index]=nul_fill(data)\n",
    "    df=df.drop('split',axis=1)\n",
    "    return df"
   ]
  },
  {
   "cell_type": "markdown",
   "metadata": {},
   "source": [
    "## 对是否是高血糖 进行判断产生label"
   ]
  },
  {
   "cell_type": "code",
   "execution_count": null,
   "metadata": {},
   "outputs": [],
   "source": [
    "def b_g(label,x=10):\n",
    "    out=[]\n",
    "    for a in label:\n",
    "\n",
    "        if a>x:\n",
    "            out.append(1)\n",
    "        else:\n",
    "            out.append(0)\n",
    "    return np.array(out)\n",
    "    "
   ]
  },
  {
   "cell_type": "markdown",
   "metadata": {},
   "source": [
    "正常血糖范围为3.9-6.1"
   ]
  },
  {
   "cell_type": "markdown",
   "metadata": {},
   "source": [
    "## 利用标准数据产生新特征 "
   ]
  },
  {
   "cell_type": "code",
   "execution_count": null,
   "metadata": {},
   "outputs": [],
   "source": [
    "def new_feature(data,std):\n",
    "    df=copy.deepcopy(data)\n",
    "    col_df=df.columns\n",
    "    col_std=std.columns\n",
    "    for i,col in enumerate(col_df):\n",
    "        if col in col_std:\n",
    "            df[str(i)+'std']=df[col]-std[col][0]\n",
    "            df[str(i)+'_std']=df[str(i)+'std']/std[col][0]\n",
    "            index=df[df['性别']==1].index\n",
    "            df[str(i)+'std'][index]=df[col][index]-std[col][1]\n",
    "            df[str(i)+'_std'][index]=df[str(i)+'std'][index]/std[col][1]\n",
    "    return df"
   ]
  },
  {
   "cell_type": "markdown",
   "metadata": {},
   "source": [
    "## 交叉验证函数 "
   ]
  },
  {
   "cell_type": "code",
   "execution_count": null,
   "metadata": {},
   "outputs": [],
   "source": [
    "def cv_function(model,train,label,test,n=10):\n",
    "    try:\n",
    "        kf = KFold(n_splits=n,shuffle=True)\n",
    "        l=[]\n",
    "        \n",
    "        err=[]\n",
    "        if type(train)==pd.DataFrame:\n",
    "            train=train.fillna(-999).values\n",
    "        if type(test)==pd.DataFrame:\n",
    "            test=test.fillna(-999).values\n",
    "        \n",
    "        if type(label)==pd.core.series.Series:\n",
    "            label=label.values\n",
    "    \n",
    "        for tr_index,te in kf.split(train,label):\n",
    "            train_x,test_x=train[tr_index],train[te]\n",
    "            train_y,test_y=label[tr_index],label[te]\n",
    "            model.fit(train_x,train_y)\n",
    "            a=model.predict(test_x)\n",
    "            err.append(np.mean((a-test_y)**2))\n",
    "            print (err[-1])\n",
    "            \n",
    "            out=model.predict(test)\n",
    "            l.append(out)\n",
    "                \n",
    "            \n",
    "        print('mean error   ',np.mean(err))\n",
    "        return l,err\n",
    "    except :\n",
    "        print('error')"
   ]
  },
  {
   "cell_type": "markdown",
   "metadata": {},
   "source": [
    "##  交叉验证，分类评测结果"
   ]
  },
  {
   "cell_type": "code",
   "execution_count": null,
   "metadata": {},
   "outputs": [],
   "source": [
    "def cla_cv_function(model,train,label,test,n=10):\n",
    "    try:\n",
    "        kf = KFold(n_splits=n,shuffle=True)\n",
    "        l=[]\n",
    "        \n",
    "        err=[]\n",
    "        if type(train)==pd.DataFrame:\n",
    "            train=train.fillna(-999).values\n",
    "        if type(test)==pd.DataFrame:\n",
    "            test=test.fillna(-999).values\n",
    "        \n",
    "        if type(label)==pd.core.series.Series:\n",
    "            label=label.values\n",
    "    \n",
    "        for tr_index,te in kf.split(train,label):\n",
    "            train_x,test_x=train[tr_index],train[te]\n",
    "            train_y,test_y=label[tr_index],label[te]\n",
    "            model.fit(train_x,train_y)\n",
    "            a=model.predict(test_x)\n",
    "            err.append(metrics.f1_score(test_y,a))\n",
    "            print (metrics.confusion_matrix(test_y,a))\n",
    "            \n",
    "            out=model.predict(test)\n",
    "            l.append(out)\n",
    "                \n",
    "            \n",
    "        print('mean error   ',np.mean(err))\n",
    "        return l,err\n",
    "    except :\n",
    "        print('error')"
   ]
  },
  {
   "cell_type": "markdown",
   "metadata": {},
   "source": [
    "##  训练数据构建"
   ]
  },
  {
   "cell_type": "code",
   "execution_count": null,
   "metadata": {},
   "outputs": [],
   "source": [
    "#train=select_age(train)\n",
    "#train=select_label(train)"
   ]
  },
  {
   "cell_type": "code",
   "execution_count": null,
   "metadata": {},
   "outputs": [],
   "source": [
    "#train=train[train['血糖']<30]"
   ]
  },
  {
   "cell_type": "code",
   "execution_count": null,
   "metadata": {},
   "outputs": [],
   "source": [
    "label=train['血糖']\n",
    "\n",
    "train1=pd.concat([train.drop('血糖',axis=1),test],axis=0,ignore_index=True)\n",
    "train1.drop('id',axis=1,inplace=True)"
   ]
  },
  {
   "cell_type": "code",
   "execution_count": null,
   "metadata": {},
   "outputs": [],
   "source": [
    "train1=sex(train1)\n",
    "#train1=age_split(train1,8)\n",
    "train1=pro_date(train1)\n",
    "train1=drop_null(train1)"
   ]
  },
  {
   "cell_type": "code",
   "execution_count": null,
   "metadata": {},
   "outputs": [],
   "source": [
    "train1=fill_nul(train1)\n",
    "train1=fill_nul(train1,20)"
   ]
  },
  {
   "cell_type": "code",
   "execution_count": null,
   "metadata": {},
   "outputs": [],
   "source": [
    "train1=train1.fillna(train1.median(axis=0))"
   ]
  },
  {
   "cell_type": "code",
   "execution_count": null,
   "metadata": {},
   "outputs": [],
   "source": [
    "ss=StandardScaler()"
   ]
  },
  {
   "cell_type": "code",
   "execution_count": null,
   "metadata": {},
   "outputs": [],
   "source": [
    "train2=ss.fit_transform(train1)"
   ]
  },
  {
   "cell_type": "code",
   "execution_count": null,
   "metadata": {},
   "outputs": [],
   "source": [
    "index_7=label[label<7].index\n",
    "index7_=label[label>7].index"
   ]
  },
  {
   "cell_type": "code",
   "execution_count": null,
   "metadata": {},
   "outputs": [],
   "source": [
    "x1,y1=train2[index_7],label[index_7]\n",
    "x2,y2=train2[index7_],label[index7_]"
   ]
  },
  {
   "cell_type": "code",
   "execution_count": null,
   "metadata": {},
   "outputs": [],
   "source": [
    "label2=b_g(label,7)"
   ]
  },
  {
   "cell_type": "code",
   "execution_count": null,
   "metadata": {},
   "outputs": [],
   "source": [
    "y2.shape"
   ]
  },
  {
   "cell_type": "markdown",
   "metadata": {},
   "source": [
    "## 数据分析 "
   ]
  },
  {
   "cell_type": "code",
   "execution_count": null,
   "metadata": {},
   "outputs": [],
   "source": [
    "plt.figure(figsize=(5,5))\n",
    "sns.distplot(train['血糖'])"
   ]
  },
  {
   "cell_type": "markdown",
   "metadata": {},
   "source": [
    " 实际分析发现血糖分布：\n",
    "   大于6.1             911\n",
    "   大于10              139\n",
    "   大于15              27\n",
    "   大于20              4"
   ]
  },
  {
   "cell_type": "code",
   "execution_count": null,
   "metadata": {},
   "outputs": [],
   "source": [
    "np.percentile(train['血糖'],95)"
   ]
  },
  {
   "cell_type": "code",
   "execution_count": null,
   "metadata": {},
   "outputs": [],
   "source": []
  },
  {
   "cell_type": "code",
   "execution_count": null,
   "metadata": {},
   "outputs": [],
   "source": [
    "label.shape"
   ]
  },
  {
   "cell_type": "markdown",
   "metadata": {},
   "source": [
    "## 对不均匀数据进行采样 "
   ]
  },
  {
   "cell_type": "code",
   "execution_count": null,
   "metadata": {},
   "outputs": [],
   "source": [
    "from imblearn.over_sampling import SMOTE, ADASYN\n",
    "from imblearn.combine import SMOTEENN\n",
    "from imblearn.ensemble import EasyEnsemble"
   ]
  },
  {
   "cell_type": "code",
   "execution_count": null,
   "metadata": {},
   "outputs": [],
   "source": [
    "smote_enn =SMOTEENN(random_state=0,n_neighbors=6,n_jobs=-1,m=3,ratio=0.4)"
   ]
  },
  {
   "cell_type": "code",
   "execution_count": null,
   "metadata": {},
   "outputs": [],
   "source": [
    "x_sam,y_sam=smote_enn.fit_sample(train1.iloc[:5642],b_g(label,10))"
   ]
  },
  {
   "cell_type": "code",
   "execution_count": null,
   "metadata": {},
   "outputs": [],
   "source": [
    "sns.countplot(y_sam)"
   ]
  },
  {
   "cell_type": "markdown",
   "metadata": {},
   "source": [
    "##  XGB 模型"
   ]
  },
  {
   "cell_type": "code",
   "execution_count": null,
   "metadata": {},
   "outputs": [],
   "source": [
    "train_x,test_x,train_y,test_y=train_test_split(train1.iloc[:5642],label,test_size=0.1,random_state=0)\n",
    "\n",
    "train_=xgb.DMatrix(train_x,train_y)\n",
    "test_=xgb.DMatrix(test_x,test_y)\n",
    "\n",
    "watchlist=[(train_,'train'),(test_,'test')]"
   ]
  },
  {
   "cell_type": "code",
   "execution_count": null,
   "metadata": {},
   "outputs": [],
   "source": [
    "    params = {\n",
    "            'booster' : 'gbtree',\n",
    "            'objective': 'reg:linear',\n",
    "            'eta': 0.1,\n",
    "            'gamma' : 0.0,\n",
    "            'max_depth' :4,\n",
    "            'min_child_weight' :1,\n",
    "            'eval_metric':'rmse',\n",
    "            'seed': 11,\n",
    "            'missing': -999,\n",
    "            'colsample_bytree' :1,\n",
    "             'colsample_bybooster':1,\n",
    "          \n",
    "            'silent' : 1,\n",
    "            \n",
    "            \n",
    "            }"
   ]
  },
  {
   "cell_type": "code",
   "execution_count": null,
   "metadata": {},
   "outputs": [],
   "source": [
    "model = xgb.train(params,train_,num_boost_round=500 ,evals=watchlist,early_stopping_rounds=30)"
   ]
  },
  {
   "cell_type": "code",
   "execution_count": null,
   "metadata": {},
   "outputs": [],
   "source": [
    "score=model.get_score()\n",
    "\n",
    "impt=pd.DataFrame()\n",
    "impt['name']=score.keys()\n",
    "impt['importance']=score.values()\n",
    "\n",
    "impt=impt.sort_values(by ='importance',axis=0,ascending=False)\n",
    "impt.reset_index(drop=True,inplace=True)"
   ]
  },
  {
   "cell_type": "code",
   "execution_count": null,
   "metadata": {},
   "outputs": [],
   "source": [
    "sns.distplot((train1['年龄']))"
   ]
  },
  {
   "cell_type": "code",
   "execution_count": null,
   "metadata": {},
   "outputs": [],
   "source": [
    "out1=model.predict(xgb.DMatrix(train1.iloc[5642:,:]))"
   ]
  },
  {
   "cell_type": "code",
   "execution_count": null,
   "metadata": {},
   "outputs": [],
   "source": [
    "sns.distplot(out1)"
   ]
  },
  {
   "cell_type": "code",
   "execution_count": null,
   "metadata": {},
   "outputs": [],
   "source": [
    "sns.distplot(out1)"
   ]
  },
  {
   "cell_type": "code",
   "execution_count": null,
   "metadata": {},
   "outputs": [],
   "source": [
    "out[out>6.1].shape"
   ]
  },
  {
   "cell_type": "code",
   "execution_count": null,
   "metadata": {},
   "outputs": [],
   "source": [
    "out1[out1>6.1].shape"
   ]
  },
  {
   "cell_type": "code",
   "execution_count": null,
   "metadata": {},
   "outputs": [],
   "source": [
    "sns.jointplot(x=out,y=out1,kind='reg')"
   ]
  },
  {
   "cell_type": "code",
   "execution_count": null,
   "metadata": {},
   "outputs": [],
   "source": [
    "np.mean((np.exp(out)-np.exp(test_y))**2)"
   ]
  },
  {
   "cell_type": "code",
   "execution_count": null,
   "metadata": {},
   "outputs": [],
   "source": [
    "pd.DataFrame(out).to_csv('re_test_a.csv',index=False,header=False)"
   ]
  },
  {
   "cell_type": "code",
   "execution_count": null,
   "metadata": {},
   "outputs": [],
   "source": [
    "train1.shape"
   ]
  },
  {
   "cell_type": "code",
   "execution_count": null,
   "metadata": {},
   "outputs": [],
   "source": [
    "xrg=xgb.XGBClassifier(max_depth=6,learning_rate=0.1,\n",
    "n_estimators=261,nthread=-1,gamma=0.0,colsample_bytree=1,\n",
    "missing=-999,colsample_bylevel=1)"
   ]
  },
  {
   "cell_type": "code",
   "execution_count": null,
   "metadata": {},
   "outputs": [],
   "source": [
    "k,err=cla_cv_function(svc,x_sam,y_sam,train2[:5642],n=10)"
   ]
  },
  {
   "cell_type": "code",
   "execution_count": null,
   "metadata": {},
   "outputs": [],
   "source": [
    "Counter(k[1])"
   ]
  },
  {
   "cell_type": "code",
   "execution_count": null,
   "metadata": {},
   "outputs": [],
   "source": [
    "err1=[1/a for a in err]\n",
    "err1=err1/sum(err1)\n",
    "\n",
    "out=[(k[i])*err1[i] for i in range(len(k))]\n",
    "\n",
    "out=sum(out)"
   ]
  },
  {
   "cell_type": "code",
   "execution_count": null,
   "metadata": {},
   "outputs": [],
   "source": [
    "pd.DataFrame(out).to_csv('classify_add_7_8_10.csv',index=False,header=False)"
   ]
  },
  {
   "cell_type": "code",
   "execution_count": null,
   "metadata": {},
   "outputs": [],
   "source": [
    "l_index,_=index_cv_function(xrg,train1.iloc[:5529],label,n=10)"
   ]
  },
  {
   "cell_type": "code",
   "execution_count": null,
   "metadata": {},
   "outputs": [],
   "source": [
    "for i in range(10):\n",
    "    print(train.iloc[l_index[i]]['血糖'][train.iloc[l_index[i]]['血糖']>15].mean())"
   ]
  },
  {
   "cell_type": "markdown",
   "metadata": {},
   "source": [
    "## Lgb 模型 "
   ]
  },
  {
   "cell_type": "code",
   "execution_count": null,
   "metadata": {},
   "outputs": [],
   "source": [
    "train_x1,test_x1,train_y1,test_y1=train_test_split(train2[:5641,:],label,test_size=0.1,random_state=0)\n",
    "\n",
    "train_1=lgb.Dataset(train_x1,label=train_y1)#,feature_name=list(train_x1.columns))\n",
    "test_1=lgb.Dataset(test_x1,label=test_y1,)#feature_name=list(test_x1.columns))"
   ]
  },
  {
   "cell_type": "code",
   "execution_count": null,
   "metadata": {},
   "outputs": [],
   "source": [
    "param = {\n",
    "    'max_depth':4,\n",
    "    'num_leaves':16,\n",
    "    'learning_rate':0.06,\n",
    "    'gamma'        :0,\n",
    "    'scale_pos_weight':1,\n",
    "    'num_threads':-1,\n",
    "    'colsample_bytree':1,\n",
    "    'metric':'rmse',\n",
    "    'subsample':1\n",
    "\n",
    "}\n",
    "param['is_unbalance']='true'"
   ]
  },
  {
   "cell_type": "code",
   "execution_count": null,
   "metadata": {},
   "outputs": [],
   "source": [
    "model=lgb.train(param,train_1,num_boost_round=500,valid_sets=[train_1,test_1],early_stopping_rounds=25)"
   ]
  },
  {
   "cell_type": "code",
   "execution_count": null,
   "metadata": {},
   "outputs": [],
   "source": [
    "lrg=lgb.LGBMRegressor( num_leaves=16, max_depth=4, learning_rate=0.06,\n",
    "                      n_estimators=249, max_bin=255, subsample_for_bin=200000, objective=None,\n",
    "                      min_split_gain=0.0, min_child_weight=0.001, min_child_samples=20, \n",
    "                      subsample=1.0, subsample_freq=1, colsample_bytree=1.0, reg_alpha=0.0,\n",
    "                      reg_lambda=0.0, random_state=None, n_jobs=-1, silent=True\n",
    ")"
   ]
  },
  {
   "cell_type": "code",
   "execution_count": null,
   "metadata": {},
   "outputs": [],
   "source": [
    "lk,lerr=cv_function(lrg,train1.iloc[:5641],label,train1.iloc[5641:],n=10)"
   ]
  },
  {
   "cell_type": "code",
   "execution_count": null,
   "metadata": {},
   "outputs": [],
   "source": [
    "lerr1=[1/a for a in lerr]\n",
    "lerr1=lerr1/sum(lerr1)\n",
    "\n",
    "out=[lk[i]*lerr1[i] for i in range(len(lk))]\n",
    "\n",
    "out=sum(out)"
   ]
  },
  {
   "cell_type": "code",
   "execution_count": null,
   "metadata": {},
   "outputs": [],
   "source": [
    "pd.DataFrame(out).to_csv('lgb_cv_qu1.csv',index=False,header=False)"
   ]
  },
  {
   "cell_type": "markdown",
   "metadata": {},
   "source": [
    "## xgb 产生新特征 "
   ]
  },
  {
   "cell_type": "code",
   "execution_count": null,
   "metadata": {},
   "outputs": [],
   "source": [
    "gbdt=xgb.XGBRegressor(max_depth=4,learning_rate=0.06,\n",
    "n_estimators=180,nthread=-1,gamma=0.0,colsample_bytree=1,\n",
    "missing=-999,colsample_bylevel=1)"
   ]
  },
  {
   "cell_type": "code",
   "execution_count": null,
   "metadata": {},
   "outputs": [],
   "source": [
    "gbdt.fit(train1.iloc[:5642].fillna(-999),label)"
   ]
  },
  {
   "cell_type": "code",
   "execution_count": null,
   "metadata": {},
   "outputs": [],
   "source": [
    "tre=pd.DataFrame(gbdt.apply(train1.fillna(-999)))"
   ]
  },
  {
   "cell_type": "markdown",
   "metadata": {},
   "source": [
    "## 支持向量机模型 "
   ]
  },
  {
   "cell_type": "code",
   "execution_count": null,
   "metadata": {},
   "outputs": [],
   "source": [
    "svc= svm.SVC(probability=True)"
   ]
  },
  {
   "cell_type": "code",
   "execution_count": null,
   "metadata": {},
   "outputs": [],
   "source": [
    "svc.fit(x_sam,y_sam)"
   ]
  },
  {
   "cell_type": "code",
   "execution_count": null,
   "metadata": {},
   "outputs": [],
   "source": [
    "prob2=svc.predict(train1.iloc[:5642])"
   ]
  },
  {
   "cell_type": "code",
   "execution_count": null,
   "metadata": {},
   "outputs": [],
   "source": [
    "metrics.accuracy_score(b_g(label,10),prob2)"
   ]
  },
  {
   "cell_type": "code",
   "execution_count": null,
   "metadata": {},
   "outputs": [],
   "source": [
    "metrics.recall_score(b_g(label,10),prob2)"
   ]
  },
  {
   "cell_type": "code",
   "execution_count": null,
   "metadata": {},
   "outputs": [],
   "source": [
    "metrics.f1_score(b_g(label,10),prob2)"
   ]
  },
  {
   "cell_type": "code",
   "execution_count": null,
   "metadata": {},
   "outputs": [],
   "source": [
    "metrics.confusion_matrix(b_g(label,10),prob2)"
   ]
  },
  {
   "cell_type": "code",
   "execution_count": null,
   "metadata": {},
   "outputs": [],
   "source": [
    "out_10=svc.predict(train1.iloc[5642:])"
   ]
  },
  {
   "cell_type": "code",
   "execution_count": null,
   "metadata": {},
   "outputs": [],
   "source": [
    "Counter(out_10)"
   ]
  },
  {
   "cell_type": "code",
   "execution_count": null,
   "metadata": {},
   "outputs": [],
   "source": [
    "Counter(b_g(label,10))"
   ]
  },
  {
   "cell_type": "markdown",
   "metadata": {},
   "source": [
    "## voting"
   ]
  },
  {
   "cell_type": "code",
   "execution_count": null,
   "metadata": {},
   "outputs": [],
   "source": [
    "from sklearn.linear_model import SGDClassifier"
   ]
  },
  {
   "cell_type": "code",
   "execution_count": null,
   "metadata": {},
   "outputs": [],
   "source": [
    "svc= svm.SVC(probability=True)\n",
    "knn=neighbors.KNeighborsClassifier()\n",
    "xgbc=xgb.XGBClassifier(max_depth=6,learning_rate=0.1,\n",
    "n_estimators=261,nthread=-1,gamma=0.0,colsample_bytree=1,\n",
    "missing=-999,colsample_bylevel=1)\n",
    "sgd=SGDClassifier(loss='log')"
   ]
  },
  {
   "cell_type": "code",
   "execution_count": null,
   "metadata": {},
   "outputs": [],
   "source": [
    "voting_clf = VotingClassifier( estimators=[(\"svc\",svc),('knn',knn),('xgbc',xgbc),('sgd',sgd)],voting='soft',)"
   ]
  },
  {
   "cell_type": "code",
   "execution_count": null,
   "metadata": {},
   "outputs": [],
   "source": [
    "voting_clf.fit(x_sam,y_sam)"
   ]
  },
  {
   "cell_type": "code",
   "execution_count": null,
   "metadata": {},
   "outputs": [],
   "source": [
    "prob2=voting_clf.predict(train1.iloc[:5642].values)"
   ]
  },
  {
   "cell_type": "code",
   "execution_count": null,
   "metadata": {},
   "outputs": [],
   "source": [
    "out_10=voting_clf.predict_proba(train1.iloc[5642:].values)"
   ]
  },
  {
   "cell_type": "markdown",
   "metadata": {},
   "source": [
    "## KNN  算法 "
   ]
  },
  {
   "cell_type": "code",
   "execution_count": null,
   "metadata": {},
   "outputs": [],
   "source": [
    "knn=neighbors.KNeighborsClassifier()"
   ]
  },
  {
   "cell_type": "code",
   "execution_count": null,
   "metadata": {},
   "outputs": [],
   "source": [
    "knn.fit(x_sam,y_sam)"
   ]
  },
  {
   "cell_type": "code",
   "execution_count": null,
   "metadata": {},
   "outputs": [],
   "source": [
    "out_knn=knn.predict(train2[:5642])"
   ]
  },
  {
   "cell_type": "code",
   "execution_count": null,
   "metadata": {},
   "outputs": [],
   "source": [
    "Counter(out_knn)"
   ]
  },
  {
   "cell_type": "markdown",
   "metadata": {},
   "source": [
    "## 线性模型 "
   ]
  },
  {
   "cell_type": "code",
   "execution_count": null,
   "metadata": {},
   "outputs": [],
   "source": [
    "reg = linear_model.RidgeCV(alphas=[0.001])"
   ]
  },
  {
   "cell_type": "code",
   "execution_count": null,
   "metadata": {},
   "outputs": [],
   "source": [
    "reg.fit(train2[:5641,:],label)"
   ]
  },
  {
   "cell_type": "code",
   "execution_count": null,
   "metadata": {},
   "outputs": [],
   "source": [
    "reg.alpha_"
   ]
  },
  {
   "cell_type": "code",
   "execution_count": null,
   "metadata": {},
   "outputs": [],
   "source": [
    "k,err=cv_function(reg,train2[:5641,:],label,train2[5641:,:],n=10)"
   ]
  },
  {
   "cell_type": "code",
   "execution_count": null,
   "metadata": {},
   "outputs": [],
   "source": [
    "out_reg=reg.predict(nul_fill(train1).iloc[5529:])"
   ]
  },
  {
   "cell_type": "code",
   "execution_count": null,
   "metadata": {},
   "outputs": [],
   "source": [
    "pd.DataFrame(out_reg).to_csv('qujizhi_linear.csv',index=False,header=False)"
   ]
  },
  {
   "cell_type": "markdown",
   "metadata": {},
   "source": [
    "### elastic net\n"
   ]
  },
  {
   "cell_type": "code",
   "execution_count": null,
   "metadata": {},
   "outputs": [],
   "source": [
    "regr=linear_model.ElasticNetCV(cv=5,l1_ratio=[.01,.1, .5, .7, .9, .95, .99, 1])"
   ]
  },
  {
   "cell_type": "code",
   "execution_count": null,
   "metadata": {},
   "outputs": [],
   "source": [
    "\n",
    "regr.fit(train2[:5641,:],np.log1p(label))"
   ]
  },
  {
   "cell_type": "code",
   "execution_count": null,
   "metadata": {},
   "outputs": [],
   "source": [
    "regr.alpha_"
   ]
  },
  {
   "cell_type": "code",
   "execution_count": null,
   "metadata": {},
   "outputs": [],
   "source": [
    "k,err=cv_function(regr,train2[:5641,:],np.log1p(label),train2[5641:,:],n=10)"
   ]
  },
  {
   "cell_type": "markdown",
   "metadata": {},
   "source": [
    "## kernel ridge "
   ]
  },
  {
   "cell_type": "code",
   "execution_count": null,
   "metadata": {},
   "outputs": [],
   "source": [
    "krr=KernelRidge(alpha=100)"
   ]
  },
  {
   "cell_type": "code",
   "execution_count": null,
   "metadata": {},
   "outputs": [],
   "source": [
    "k,err=cv_function(krr,train2[:5641,:],np.log1p(label),train2[5641:,:],n=10)"
   ]
  },
  {
   "cell_type": "markdown",
   "metadata": {},
   "source": [
    "## lasso "
   ]
  },
  {
   "cell_type": "code",
   "execution_count": null,
   "metadata": {},
   "outputs": [],
   "source": [
    "lasso=linear_model.LassoCV(alphas=[0.01,0.1,1,10])"
   ]
  },
  {
   "cell_type": "code",
   "execution_count": null,
   "metadata": {},
   "outputs": [],
   "source": [
    "lasso.fit(train2[:5641,:],np.log1p(label))"
   ]
  },
  {
   "cell_type": "code",
   "execution_count": null,
   "metadata": {},
   "outputs": [],
   "source": [
    "lasso.alpha_"
   ]
  },
  {
   "cell_type": "code",
   "execution_count": null,
   "metadata": {},
   "outputs": [],
   "source": [
    "k,err=cv_function(lasso,train2[:5641,:],np.log1p(label),train2[5641:,:],n=10)"
   ]
  },
  {
   "cell_type": "code",
   "execution_count": null,
   "metadata": {},
   "outputs": [],
   "source": []
  },
  {
   "cell_type": "code",
   "execution_count": null,
   "metadata": {},
   "outputs": [],
   "source": []
  },
  {
   "cell_type": "code",
   "execution_count": null,
   "metadata": {},
   "outputs": [],
   "source": [
    "(np.argwhere(out_10[:,1]>0.4)+1)"
   ]
  },
  {
   "cell_type": "code",
   "execution_count": null,
   "metadata": {},
   "outputs": [],
   "source": []
  }
 ],
 "metadata": {
  "kernelspec": {
   "display_name": "Python 3",
   "language": "python",
   "name": "python3"
  },
  "language_info": {
   "codemirror_mode": {
    "name": "ipython",
    "version": 3
   },
   "file_extension": ".py",
   "mimetype": "text/x-python",
   "name": "python",
   "nbconvert_exporter": "python",
   "pygments_lexer": "ipython3",
   "version": "3.5.2"
  }
 },
 "nbformat": 4,
 "nbformat_minor": 2
}
