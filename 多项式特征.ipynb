{
 "cells": [
  {
   "cell_type": "code",
   "execution_count": 1,
   "metadata": {},
   "outputs": [
    {
     "name": "stderr",
     "output_type": "stream",
     "text": [
      "/usr/local/lib/python3.5/dist-packages/sklearn/cross_validation.py:41: DeprecationWarning: This module was deprecated in version 0.18 in favor of the model_selection module into which all the refactored classes and functions are moved. Also note that the interface of the new CV iterators are different from that of this module. This module will be removed in 0.20.\n",
      "  \"This module will be removed in 0.20.\", DeprecationWarning)\n"
     ]
    }
   ],
   "source": [
    "import pandas as pd\n",
    "import imblearn\n",
    "import numpy as np\n",
    "import traceback\n",
    "from dateutil.parser import parse\n",
    "pd.set_option('display.max_rows', 20,'max_info_columns', 9999,'display.max_columns', 9999)\n",
    "import matplotlib.pyplot as plt\n",
    "import copy\n",
    "%matplotlib inline\n",
    "import seaborn as sns\n",
    "from sklearn import preprocessing,metrics\n",
    "import datetime as dt\n",
    "import gc\n",
    "from sklearn import svm,linear_model\n",
    "from collections import Counter\n",
    "from sklearn.model_selection import train_test_split\n",
    "import csv\n",
    "import xgboost as xgb\n",
    "import lightgbm as lgb\n",
    "from sklearn.model_selection import GridSearchCV\n",
    "from sklearn.preprocessing import OneHotEncoder,Imputer\n",
    "\n",
    "from sklearn.ensemble import RandomForestRegressor,VotingClassifier\n",
    "from sklearn.kernel_ridge import KernelRidge\n",
    "from sklearn import neighbors\n",
    "from sklearn.preprocessing import scale\n",
    "from sklearn.model_selection import StratifiedKFold\n",
    "\n",
    "\n",
    "from sklearn.feature_selection import RFE \n",
    "from sklearn.preprocessing import StandardScaler,PolynomialFeatures\n",
    "from sklearn.model_selection import KFold\n",
    "from sklearn.model_selection import RandomizedSearchCV\n",
    "from sklearn.cross_validation import  cross_val_score\n",
    "from sklearn.preprocessing import LabelEncoder\n",
    "import warnings\n",
    "import xlrd\n",
    "warnings.filterwarnings('ignore')"
   ]
  },
  {
   "cell_type": "code",
   "execution_count": 2,
   "metadata": {},
   "outputs": [],
   "source": [
    "train=pd.read_csv('d_train_20180102.csv')\n",
    "#train_=pd.read_csv('/home/tsl-yu/文档/天池-精准医疗/d_test_A_20180102.csv')\n",
    "#answer=pd.read_csv('/home/tsl-yu/文档/天池-精准医疗/d_answer_a_20180128.csv',names='v')\n",
    "test=pd.read_csv('d_test_B_20180128.csv')\n",
    "\n",
    "mer=pd.read_excel('std.xlsx')"
   ]
  },
  {
   "cell_type": "code",
   "execution_count": null,
   "metadata": {},
   "outputs": [],
   "source": []
  },
  {
   "cell_type": "code",
   "execution_count": 3,
   "metadata": {},
   "outputs": [],
   "source": [
    "#train_['血糖']=answer\n",
    "\n",
    "#train=pd.concat([train,train_],axis=0)\n",
    "\n",
    "#train.reset_index(drop=True,inplace=True)"
   ]
  },
  {
   "cell_type": "markdown",
   "metadata": {},
   "source": [
    "## 性别处理函数 "
   ]
  },
  {
   "cell_type": "code",
   "execution_count": 4,
   "metadata": {},
   "outputs": [],
   "source": [
    "def sex(df):\n",
    "    col=df.columns\n",
    "    dic={ '男': 0 ,'女':1  }\n",
    "    for c in col:\n",
    "        if c=='性别':\n",
    "            df[c]=df[c].map(dic)\n",
    "            \n",
    "    return df"
   ]
  },
  {
   "cell_type": "code",
   "execution_count": null,
   "metadata": {},
   "outputs": [],
   "source": []
  },
  {
   "cell_type": "markdown",
   "metadata": {},
   "source": [
    "## 年龄范围选择 "
   ]
  },
  {
   "cell_type": "code",
   "execution_count": 5,
   "metadata": {},
   "outputs": [],
   "source": [
    "def select_age(df,n=10,m=100):\n",
    "    df=df[df['年龄']>n][df['年龄']<m]\n",
    "    return df"
   ]
  },
  {
   "cell_type": "markdown",
   "metadata": {},
   "source": [
    "## label范围选择 "
   ]
  },
  {
   "cell_type": "code",
   "execution_count": 6,
   "metadata": {},
   "outputs": [],
   "source": [
    "def select_label(df):\n",
    "    \n",
    "    ma=np.percentile(df['血糖'],98)\n",
    "    df=df[df['血糖']<ma]\n",
    "    return df"
   ]
  },
  {
   "cell_type": "markdown",
   "metadata": {},
   "source": [
    "## 年龄阶段划分函数 "
   ]
  },
  {
   "cell_type": "code",
   "execution_count": 7,
   "metadata": {},
   "outputs": [],
   "source": [
    "def age_split(df,n=5):\n",
    "    col=df.columns\n",
    "    \n",
    "    for c in col:\n",
    "        if c=='年龄':\n",
    "            df['age_cata']=pd.cut(df[c],n,labels=False)\n",
    "            \n",
    "    return df"
   ]
  },
  {
   "cell_type": "markdown",
   "metadata": {},
   "source": [
    "##  空值填充|"
   ]
  },
  {
   "cell_type": "code",
   "execution_count": 8,
   "metadata": {},
   "outputs": [],
   "source": [
    "def nul_fill(df):\n",
    "    for col in df.columns:\n",
    "        l=df[col][df[col].isnull()]\n",
    "        if len(l)!=len(df[col]):\n",
    "            mean=np.nanmean(df[col])\n",
    "            df[col]=df[col].fillna(mean)\n",
    "        \n",
    "    return df"
   ]
  },
  {
   "cell_type": "markdown",
   "metadata": {},
   "source": [
    "## 日期处理函数 "
   ]
  },
  {
   "cell_type": "code",
   "execution_count": 9,
   "metadata": {},
   "outputs": [],
   "source": [
    "def pro_date(df):\n",
    "    col=df.columns\n",
    "    \n",
    "    for c in col:\n",
    "        if c=='体检日期':\n",
    "            df['体检日期']=[dt.datetime.strptime(str,'%d/%m/%Y') for str in df['体检日期']]\n",
    "            \n",
    "            df['month']=[date.month for date in df['体检日期']]\n",
    "            df['day']=[date.day for date in df['体检日期']]\n",
    "            df['weekday']=[date.dayofweek for date in df['体检日期']]\n",
    "            df['体检日期'] = (pd.to_datetime(df['体检日期']) - parse('2017-10-09')).dt.days\n",
    "            \n",
    "    return df"
   ]
  },
  {
   "cell_type": "markdown",
   "metadata": {},
   "source": [
    "##  去掉空值超过0.7的函数"
   ]
  },
  {
   "cell_type": "code",
   "execution_count": 10,
   "metadata": {},
   "outputs": [],
   "source": [
    "def drop_null(df):\n",
    "    for col in df.columns:\n",
    "        a=df[col].isnull().sum()\n",
    "        if a>len(df[col])*0.7:\n",
    "            df=df.drop(col,axis=1)\n",
    "            \n",
    "    return df"
   ]
  },
  {
   "cell_type": "markdown",
   "metadata": {},
   "source": [
    "##  以年龄、性别为依据，分组填充"
   ]
  },
  {
   "cell_type": "code",
   "execution_count": 11,
   "metadata": {},
   "outputs": [],
   "source": [
    "def fill_nul(df,n=27):\n",
    "    col=df.columns    \n",
    "    for c in col:\n",
    "        if c=='年龄':\n",
    "            df['split']=pd.cut(df[c],n,labels=False)\n",
    "         \n",
    "    for age,group in df.groupby('split'):\n",
    "            for sex,data in group.groupby('性别'):\n",
    "                index=data.index\n",
    "                df.iloc[index]=nul_fill(data)\n",
    "    df=df.drop('split',axis=1)\n",
    "    return df"
   ]
  },
  {
   "cell_type": "markdown",
   "metadata": {},
   "source": [
    "## 对是否是高血糖 进行判断产生label"
   ]
  },
  {
   "cell_type": "code",
   "execution_count": 12,
   "metadata": {},
   "outputs": [],
   "source": [
    "def b_g(label,x=10):\n",
    "    out=[]\n",
    "    for a in label:\n",
    "\n",
    "        if a>x:\n",
    "            out.append(1)\n",
    "        else:\n",
    "            out.append(0)\n",
    "    return np.array(out)\n",
    "    "
   ]
  },
  {
   "cell_type": "markdown",
   "metadata": {},
   "source": [
    "正常血糖范围为3.9-6.1"
   ]
  },
  {
   "cell_type": "markdown",
   "metadata": {},
   "source": [
    "## 利用标准数据产生新特征 "
   ]
  },
  {
   "cell_type": "code",
   "execution_count": 13,
   "metadata": {},
   "outputs": [],
   "source": [
    "def new_feature(data,std):\n",
    "    df=copy.deepcopy(data)\n",
    "    col_df=df.columns\n",
    "    col_std=std.columns\n",
    "    for i,col in enumerate(col_df):\n",
    "        if col in col_std:\n",
    "            df[str(i)+'std']=df[col]-std[col][0]\n",
    "            df[str(i)+'_std']=df[str(i)+'std']/std[col][0]\n",
    "            index=df[df['性别']==1].index\n",
    "            df[str(i)+'std'][index]=df[col][index]-std[col][1]\n",
    "            df[str(i)+'_std'][index]=df[str(i)+'std'][index]/std[col][1]\n",
    "    return df"
   ]
  },
  {
   "cell_type": "markdown",
   "metadata": {},
   "source": [
    "##  利用四则运算构建特征"
   ]
  },
  {
   "cell_type": "code",
   "execution_count": 14,
   "metadata": {},
   "outputs": [],
   "source": [
    "def base_alg(data):\n",
    "    df=copy.deepcopy(data)\n",
    "    col=df.columns\n",
    "    for i in range(len(col)):\n",
    "        for j in range(len(col)-i-1):\n",
    "            df[col[i]+'_add_'+col[i+1+j]]=df[col[i]]+df[col[i+1+j]]\n",
    "            df[col[i]+'_sub_'+col[i+1+j]]=df[col[i]]-df[col[i+1+j]]\n",
    "            df[col[i]+'_mult_'+col[i+1+j]]=df[col[i]]*df[col[i+1+j]]\n",
    "            \n",
    "            a=[]\n",
    "            for k in range(len(df[col[i]])):\n",
    "                if np.fabs(df[col[i+1+j]][k])>0.0001:\n",
    "                              a.append(df[col[i]][k]/df[col[i+1+j]][k])\n",
    "                else:\n",
    "                              a.append(None)\n",
    "            df[col[i]+'_div_'+col[i+1+j]]=a\n",
    "    return df"
   ]
  },
  {
   "cell_type": "markdown",
   "metadata": {},
   "source": [
    "## 交叉验证函数 "
   ]
  },
  {
   "cell_type": "code",
   "execution_count": 15,
   "metadata": {},
   "outputs": [],
   "source": [
    "def cv_function(model,train,label,test,n=10):\n",
    "    try:\n",
    "        kf = KFold(n_splits=n,shuffle=True)\n",
    "        l=[]\n",
    "        \n",
    "        err=[]\n",
    "        if type(train)==pd.DataFrame:\n",
    "            train=train.fillna(-999).values\n",
    "        if type(test)==pd.DataFrame:\n",
    "            test=test.fillna(-999).values\n",
    "        \n",
    "        if type(label)==pd.core.series.Series:\n",
    "            label=label.values\n",
    "    \n",
    "        for tr_index,te in kf.split(train,label):\n",
    "            train_x,test_x=train[tr_index],train[te]\n",
    "            train_y,test_y=label[tr_index],label[te]\n",
    "            model.fit(train_x,train_y)\n",
    "            a=model.predict(test_x)\n",
    "            err.append(np.mean((a-test_y)**2))\n",
    "            print (err[-1])\n",
    "            \n",
    "            out=model.predict(test)\n",
    "            l.append(out)\n",
    "                \n",
    "            \n",
    "        print('mean error   ',np.mean(err))\n",
    "        return l,err\n",
    "    except :\n",
    "        print('error')"
   ]
  },
  {
   "cell_type": "markdown",
   "metadata": {},
   "source": [
    "##  交叉验证，分类评测结果"
   ]
  },
  {
   "cell_type": "code",
   "execution_count": 16,
   "metadata": {},
   "outputs": [],
   "source": [
    "def cla_cv_function(model,train,label,test,n=10):\n",
    "    try:\n",
    "        kf = KFold(n_splits=n,shuffle=True)\n",
    "        l=[]\n",
    "        \n",
    "        err=[]\n",
    "        if type(train)==pd.DataFrame:\n",
    "            train=train.fillna(-999).values\n",
    "        if type(test)==pd.DataFrame:\n",
    "            test=test.fillna(-999).values\n",
    "        \n",
    "        if type(label)==pd.core.series.Series:\n",
    "            label=label.values\n",
    "    \n",
    "        for tr_index,te in kf.split(train,label):\n",
    "            train_x,test_x=train[tr_index],train[te]\n",
    "            train_y,test_y=label[tr_index],label[te]\n",
    "            model.fit(train_x,train_y)\n",
    "            a=model.predict(test_x)\n",
    "            err.append(metrics.f1_score(test_y,a))\n",
    "            print (metrics.confusion_matrix(test_y,a))\n",
    "            \n",
    "            out=model.predict(test)\n",
    "            l.append(out)\n",
    "                \n",
    "            \n",
    "        print('mean error   ',np.mean(err))\n",
    "        return l,err\n",
    "    except :\n",
    "        print('error')"
   ]
  },
  {
   "cell_type": "code",
   "execution_count": null,
   "metadata": {},
   "outputs": [],
   "source": []
  },
  {
   "cell_type": "markdown",
   "metadata": {},
   "source": [
    "## 多项式特征 "
   ]
  },
  {
   "cell_type": "code",
   "execution_count": 17,
   "metadata": {},
   "outputs": [],
   "source": [
    "def poly_f(df,n=3):\n",
    "    py=PolynomialFeatures(degree=n,interaction_only=True)\n",
    "    return py.fit_transform(df) "
   ]
  },
  {
   "cell_type": "code",
   "execution_count": null,
   "metadata": {},
   "outputs": [],
   "source": []
  },
  {
   "cell_type": "code",
   "execution_count": null,
   "metadata": {},
   "outputs": [],
   "source": []
  },
  {
   "cell_type": "markdown",
   "metadata": {},
   "source": [
    "##  训练数据构建"
   ]
  },
  {
   "cell_type": "code",
   "execution_count": 18,
   "metadata": {},
   "outputs": [],
   "source": [
    "train=select_age(train)\n",
    "#train=select_label(train)"
   ]
  },
  {
   "cell_type": "code",
   "execution_count": 19,
   "metadata": {},
   "outputs": [],
   "source": [
    "#train=train[train['血糖']<30]"
   ]
  },
  {
   "cell_type": "code",
   "execution_count": 20,
   "metadata": {},
   "outputs": [],
   "source": [
    "label=train['血糖']\n",
    "\n",
    "train1=pd.concat([train.drop('血糖',axis=1),test],axis=0,ignore_index=True)\n",
    "train1.drop('id',axis=1,inplace=True)"
   ]
  },
  {
   "cell_type": "code",
   "execution_count": 21,
   "metadata": {},
   "outputs": [],
   "source": [
    "train1=sex(train1)\n",
    "#train1=age_split(train1,8)\n",
    "train1=pro_date(train1)\n",
    "train1=drop_null(train1)"
   ]
  },
  {
   "cell_type": "code",
   "execution_count": 22,
   "metadata": {},
   "outputs": [],
   "source": [
    "train1=fill_nul(train1)\n",
    "train1=fill_nul(train1,20)"
   ]
  },
  {
   "cell_type": "code",
   "execution_count": 23,
   "metadata": {},
   "outputs": [],
   "source": [
    "train1=train1.fillna(train1.median(axis=0))"
   ]
  },
  {
   "cell_type": "code",
   "execution_count": 24,
   "metadata": {},
   "outputs": [
    {
     "data": {
      "text/plain": [
       "(6640, 38)"
      ]
     },
     "execution_count": 24,
     "metadata": {},
     "output_type": "execute_result"
    }
   ],
   "source": [
    "train1.shape"
   ]
  },
  {
   "cell_type": "code",
   "execution_count": 25,
   "metadata": {},
   "outputs": [],
   "source": [
    "ss=StandardScaler()"
   ]
  },
  {
   "cell_type": "code",
   "execution_count": 26,
   "metadata": {},
   "outputs": [],
   "source": [
    "train2=ss.fit_transform(train1)"
   ]
  },
  {
   "cell_type": "code",
   "execution_count": 27,
   "metadata": {},
   "outputs": [],
   "source": [
    "train2=pd.DataFrame(train2,columns=train1.columns)"
   ]
  },
  {
   "cell_type": "code",
   "execution_count": 28,
   "metadata": {},
   "outputs": [],
   "source": [
    "b1=base_alg(train1)\n",
    "b2=base_alg(train2)"
   ]
  },
  {
   "cell_type": "code",
   "execution_count": 29,
   "metadata": {},
   "outputs": [],
   "source": [
    "b1=b1.fillna(b1.median(axis=0))\n",
    "b2=b2.fillna(b2.median(axis=0))"
   ]
  },
  {
   "cell_type": "code",
   "execution_count": null,
   "metadata": {},
   "outputs": [],
   "source": [
    "test.info()"
   ]
  },
  {
   "cell_type": "markdown",
   "metadata": {},
   "source": [
    "### 多项式数据 "
   ]
  },
  {
   "cell_type": "code",
   "execution_count": null,
   "metadata": {},
   "outputs": [],
   "source": [
    "pp=poly_f(train2,3)"
   ]
  },
  {
   "cell_type": "code",
   "execution_count": null,
   "metadata": {},
   "outputs": [],
   "source": [
    "pp=pd.DataFrame(pp)"
   ]
  },
  {
   "cell_type": "code",
   "execution_count": null,
   "metadata": {},
   "outputs": [],
   "source": [
    "pp.columns=[str(i)+'_s' for i in range(len(pp.columns))]"
   ]
  },
  {
   "cell_type": "markdown",
   "metadata": {},
   "source": [
    "## 数据分析 "
   ]
  },
  {
   "cell_type": "code",
   "execution_count": null,
   "metadata": {},
   "outputs": [],
   "source": [
    "plt.figure(figsize=(5,5))\n",
    "sns.distplot(train['血糖'])"
   ]
  },
  {
   "cell_type": "markdown",
   "metadata": {},
   "source": [
    " 实际分析发现血糖分布：\n",
    "   大于6.1             911\n",
    "   大于10              139\n",
    "   大于15              27\n",
    "   大于20              4"
   ]
  },
  {
   "cell_type": "code",
   "execution_count": null,
   "metadata": {},
   "outputs": [],
   "source": [
    "np.percentile(train['血糖'],95)"
   ]
  },
  {
   "cell_type": "code",
   "execution_count": null,
   "metadata": {},
   "outputs": [],
   "source": []
  },
  {
   "cell_type": "code",
   "execution_count": null,
   "metadata": {},
   "outputs": [],
   "source": [
    "label.shape"
   ]
  },
  {
   "cell_type": "markdown",
   "metadata": {},
   "source": [
    "## 对不均匀数据进行采样 "
   ]
  },
  {
   "cell_type": "code",
   "execution_count": null,
   "metadata": {},
   "outputs": [],
   "source": [
    "from imblearn.over_sampling import SMOTE, ADASYN\n",
    "from imblearn.combine import SMOTEENN\n",
    "from imblearn.ensemble import EasyEnsemble"
   ]
  },
  {
   "cell_type": "code",
   "execution_count": null,
   "metadata": {},
   "outputs": [],
   "source": [
    "smote_enn =SMOTEENN(random_state=0,n_neighbors=6,n_jobs=-1,m=3,ratio=0.5)"
   ]
  },
  {
   "cell_type": "code",
   "execution_count": null,
   "metadata": {},
   "outputs": [],
   "source": [
    "x_sam,y_sam=smote_enn.fit_sample(train2[:5642,:],b_g(label,10))"
   ]
  },
  {
   "cell_type": "code",
   "execution_count": null,
   "metadata": {},
   "outputs": [],
   "source": [
    "sns.countplot(y_sam)"
   ]
  },
  {
   "cell_type": "code",
   "execution_count": null,
   "metadata": {},
   "outputs": [],
   "source": []
  },
  {
   "cell_type": "code",
   "execution_count": null,
   "metadata": {},
   "outputs": [],
   "source": [
    "test_y[test_y>15]"
   ]
  },
  {
   "cell_type": "code",
   "execution_count": null,
   "metadata": {},
   "outputs": [],
   "source": [
    "ind_a,ind_b=list(label[label>7].index),list(label[label<7].index)"
   ]
  },
  {
   "cell_type": "code",
   "execution_count": null,
   "metadata": {},
   "outputs": [],
   "source": [
    "sp_train2,hp_train2=train2.iloc[ind_a],train2.iloc[ind_b]\n",
    "sp_label,hp_label=label[ind_a],label[ind_b]"
   ]
  },
  {
   "cell_type": "code",
   "execution_count": null,
   "metadata": {},
   "outputs": [],
   "source": []
  },
  {
   "cell_type": "code",
   "execution_count": null,
   "metadata": {},
   "outputs": [],
   "source": []
  },
  {
   "cell_type": "markdown",
   "metadata": {},
   "source": [
    "##  模型融合"
   ]
  },
  {
   "cell_type": "code",
   "execution_count": null,
   "metadata": {},
   "outputs": [],
   "source": [
    "class Ensemble(object):\n",
    "    def __init__(self, n_folds, stacker, base_models):\n",
    "        self.n_folds = n_folds\n",
    "        self.stacker = stacker\n",
    "        self.base_models = base_models\n",
    "        \n",
    "        from sklearn.cross_validation import KFold\n",
    "        kf=KFold(self.n_folds)\n",
    "        \n",
    "    def fit_predict(self, X, y, T):\n",
    "        X = np.array(X)\n",
    "        y = np.array(y)\n",
    "        T = np.array(T)\n",
    "        \n",
    "        \n",
    "        kf=KFold(self.n_folds)\n",
    "        folds=kf.split(X)\n",
    "        S_train = np.zeros((X.shape[0], len(self.base_models)))\n",
    "        S_test = np.zeros((T.shape[0], len(self.base_models)))\n",
    "        for i, clf in enumerate(self.base_models):\n",
    "            S_test_i = np.zeros((T.shape[0],self.n_folds))\n",
    "            for j, (train_idx, test_idx) in enumerate(folds):\n",
    "                X_train = X[train_idx]\n",
    "                y_train = y[train_idx]\n",
    "                X_holdout = X[test_idx]\n",
    "                # y_holdout = y[test_idx]\n",
    "                clf.fit(X_train, y_train)\n",
    "                y_pred = clf.predict(X_holdout)[:]\n",
    "                S_train[test_idx, i] = y_pred\n",
    "                S_test_i[:, j] = clf.predict(T)[:]\n",
    "            S_test[:, i] = S_test_i.mean(1)\n",
    "        self.stacker.fit(S_train, y)\n",
    "        y_pred = self.stacker.predict(S_test)[:]\n",
    "        return y_pred"
   ]
  },
  {
   "cell_type": "code",
   "execution_count": null,
   "metadata": {},
   "outputs": [],
   "source": [
    "train1"
   ]
  },
  {
   "cell_type": "markdown",
   "metadata": {},
   "source": [
    "##  XGB 模型"
   ]
  },
  {
   "cell_type": "code",
   "execution_count": 94,
   "metadata": {},
   "outputs": [],
   "source": [
    "train_x,test_x,train_y,test_y=train_test_split(b2.iloc[:5640],label,test_size=0.1,random_state=0)\n",
    "\n",
    "train_=xgb.DMatrix(train_x,train_y)\n",
    "test_=xgb.DMatrix(test_x,test_y)\n",
    "\n",
    "watchlist=[(train_,'train'),(test_,'test')]"
   ]
  },
  {
   "cell_type": "code",
   "execution_count": 167,
   "metadata": {},
   "outputs": [],
   "source": [
    "    params = {\n",
    "            'booster' : 'gbtree',\n",
    "            'objective': 'reg:linear',\n",
    "            'eta': 0.06,\n",
    "            'gamma' : 0.01,\n",
    "            'max_depth' :4,\n",
    "            'min_child_weight' :1,\n",
    "            'eval_metric':'rmse',\n",
    "            'seed': 11,\n",
    "            'missing': -999,\n",
    "            'subsample' :0.8,\n",
    "        \n",
    "            'colsample_bytree' :0.11,\n",
    "             'colsample_bybooster':1,\n",
    "          \n",
    "            'silent' : 1,\n",
    "            \n",
    "            \n",
    "            }"
   ]
  },
  {
   "cell_type": "code",
   "execution_count": 168,
   "metadata": {},
   "outputs": [
    {
     "name": "stdout",
     "output_type": "stream",
     "text": [
      "[0]\ttrain-rmse:5.06211\ttest-rmse:5.04924\n",
      "Multiple eval metrics have been passed: 'test-rmse' will be used for early stopping.\n",
      "\n",
      "Will train until test-rmse hasn't improved in 30 rounds.\n",
      "[1]\ttrain-rmse:4.78211\ttest-rmse:4.77159\n",
      "[2]\ttrain-rmse:4.52154\ttest-rmse:4.51485\n",
      "[3]\ttrain-rmse:4.27628\ttest-rmse:4.27493\n",
      "[4]\ttrain-rmse:4.04833\ttest-rmse:4.05197\n",
      "[5]\ttrain-rmse:3.83373\ttest-rmse:3.83831\n",
      "[6]\ttrain-rmse:3.63196\ttest-rmse:3.64307\n",
      "[7]\ttrain-rmse:3.44423\ttest-rmse:3.45831\n",
      "[8]\ttrain-rmse:3.26866\ttest-rmse:3.28415\n",
      "[9]\ttrain-rmse:3.1064\ttest-rmse:3.1247\n",
      "[10]\ttrain-rmse:2.95278\ttest-rmse:2.97636\n",
      "[11]\ttrain-rmse:2.80957\ttest-rmse:2.83944\n",
      "[12]\ttrain-rmse:2.67762\ttest-rmse:2.71143\n",
      "[13]\ttrain-rmse:2.55339\ttest-rmse:2.59317\n",
      "[14]\ttrain-rmse:2.43896\ttest-rmse:2.48424\n",
      "[15]\ttrain-rmse:2.33127\ttest-rmse:2.38285\n",
      "[16]\ttrain-rmse:2.23109\ttest-rmse:2.28507\n",
      "[17]\ttrain-rmse:2.14131\ttest-rmse:2.19768\n",
      "[18]\ttrain-rmse:2.05654\ttest-rmse:2.11939\n",
      "[19]\ttrain-rmse:1.97715\ttest-rmse:2.04758\n",
      "[20]\ttrain-rmse:1.90231\ttest-rmse:1.98301\n",
      "[21]\ttrain-rmse:1.83505\ttest-rmse:1.92468\n",
      "[22]\ttrain-rmse:1.77448\ttest-rmse:1.87303\n",
      "[23]\ttrain-rmse:1.71712\ttest-rmse:1.82276\n",
      "[24]\ttrain-rmse:1.66509\ttest-rmse:1.78015\n",
      "[25]\ttrain-rmse:1.61608\ttest-rmse:1.74015\n",
      "[26]\ttrain-rmse:1.57137\ttest-rmse:1.70496\n",
      "[27]\ttrain-rmse:1.5297\ttest-rmse:1.67165\n",
      "[28]\ttrain-rmse:1.49087\ttest-rmse:1.63985\n",
      "[29]\ttrain-rmse:1.45419\ttest-rmse:1.61486\n",
      "[30]\ttrain-rmse:1.42023\ttest-rmse:1.59078\n",
      "[31]\ttrain-rmse:1.39\ttest-rmse:1.56731\n",
      "[32]\ttrain-rmse:1.36264\ttest-rmse:1.54525\n",
      "[33]\ttrain-rmse:1.33604\ttest-rmse:1.52753\n",
      "[34]\ttrain-rmse:1.31206\ttest-rmse:1.51315\n",
      "[35]\ttrain-rmse:1.29133\ttest-rmse:1.50006\n",
      "[36]\ttrain-rmse:1.27099\ttest-rmse:1.48711\n",
      "[37]\ttrain-rmse:1.25195\ttest-rmse:1.47535\n",
      "[38]\ttrain-rmse:1.23314\ttest-rmse:1.46605\n",
      "[39]\ttrain-rmse:1.21755\ttest-rmse:1.45743\n",
      "[40]\ttrain-rmse:1.2024\ttest-rmse:1.45032\n",
      "[41]\ttrain-rmse:1.18802\ttest-rmse:1.44335\n",
      "[42]\ttrain-rmse:1.17334\ttest-rmse:1.43571\n",
      "[43]\ttrain-rmse:1.16009\ttest-rmse:1.43135\n",
      "[44]\ttrain-rmse:1.14914\ttest-rmse:1.42659\n",
      "[45]\ttrain-rmse:1.13985\ttest-rmse:1.42203\n",
      "[46]\ttrain-rmse:1.13098\ttest-rmse:1.41834\n",
      "[47]\ttrain-rmse:1.11998\ttest-rmse:1.41508\n",
      "[48]\ttrain-rmse:1.11082\ttest-rmse:1.41303\n",
      "[49]\ttrain-rmse:1.10239\ttest-rmse:1.41104\n",
      "[50]\ttrain-rmse:1.09495\ttest-rmse:1.40622\n",
      "[51]\ttrain-rmse:1.08801\ttest-rmse:1.40494\n",
      "[52]\ttrain-rmse:1.08191\ttest-rmse:1.40268\n",
      "[53]\ttrain-rmse:1.07544\ttest-rmse:1.40218\n",
      "[54]\ttrain-rmse:1.06924\ttest-rmse:1.40008\n",
      "[55]\ttrain-rmse:1.06566\ttest-rmse:1.39895\n",
      "[56]\ttrain-rmse:1.06106\ttest-rmse:1.39685\n",
      "[57]\ttrain-rmse:1.05628\ttest-rmse:1.39492\n",
      "[58]\ttrain-rmse:1.05038\ttest-rmse:1.39441\n",
      "[59]\ttrain-rmse:1.04579\ttest-rmse:1.39407\n",
      "[60]\ttrain-rmse:1.04178\ttest-rmse:1.3936\n",
      "[61]\ttrain-rmse:1.03693\ttest-rmse:1.39334\n",
      "[62]\ttrain-rmse:1.03052\ttest-rmse:1.39273\n",
      "[63]\ttrain-rmse:1.02504\ttest-rmse:1.39362\n",
      "[64]\ttrain-rmse:1.02221\ttest-rmse:1.39324\n",
      "[65]\ttrain-rmse:1.0185\ttest-rmse:1.39369\n",
      "[66]\ttrain-rmse:1.01567\ttest-rmse:1.39323\n",
      "[67]\ttrain-rmse:1.01283\ttest-rmse:1.39294\n",
      "[68]\ttrain-rmse:1.00855\ttest-rmse:1.39266\n",
      "[69]\ttrain-rmse:1.00321\ttest-rmse:1.3938\n",
      "[70]\ttrain-rmse:1.00029\ttest-rmse:1.39263\n",
      "[71]\ttrain-rmse:0.995188\ttest-rmse:1.39423\n",
      "[72]\ttrain-rmse:0.991893\ttest-rmse:1.39516\n",
      "[73]\ttrain-rmse:0.988608\ttest-rmse:1.39552\n",
      "[74]\ttrain-rmse:0.985159\ttest-rmse:1.39668\n",
      "[75]\ttrain-rmse:0.981904\ttest-rmse:1.39703\n",
      "[76]\ttrain-rmse:0.979838\ttest-rmse:1.39683\n",
      "[77]\ttrain-rmse:0.976657\ttest-rmse:1.39696\n",
      "[78]\ttrain-rmse:0.97447\ttest-rmse:1.39635\n",
      "[79]\ttrain-rmse:0.970724\ttest-rmse:1.39671\n",
      "[80]\ttrain-rmse:0.968483\ttest-rmse:1.39729\n",
      "[81]\ttrain-rmse:0.96545\ttest-rmse:1.3952\n",
      "[82]\ttrain-rmse:0.963642\ttest-rmse:1.39316\n",
      "[83]\ttrain-rmse:0.961096\ttest-rmse:1.393\n",
      "[84]\ttrain-rmse:0.958532\ttest-rmse:1.3929\n",
      "[85]\ttrain-rmse:0.956973\ttest-rmse:1.39237\n",
      "[86]\ttrain-rmse:0.954215\ttest-rmse:1.39329\n",
      "[87]\ttrain-rmse:0.951377\ttest-rmse:1.39336\n",
      "[88]\ttrain-rmse:0.949424\ttest-rmse:1.39421\n",
      "[89]\ttrain-rmse:0.946566\ttest-rmse:1.3946\n",
      "[90]\ttrain-rmse:0.942313\ttest-rmse:1.39524\n",
      "[91]\ttrain-rmse:0.939096\ttest-rmse:1.39474\n",
      "[92]\ttrain-rmse:0.936957\ttest-rmse:1.39312\n",
      "[93]\ttrain-rmse:0.933073\ttest-rmse:1.39278\n",
      "[94]\ttrain-rmse:0.930509\ttest-rmse:1.3927\n",
      "[95]\ttrain-rmse:0.927215\ttest-rmse:1.39274\n",
      "[96]\ttrain-rmse:0.925339\ttest-rmse:1.39181\n",
      "[97]\ttrain-rmse:0.921499\ttest-rmse:1.39146\n",
      "[98]\ttrain-rmse:0.918954\ttest-rmse:1.3922\n",
      "[99]\ttrain-rmse:0.915638\ttest-rmse:1.39313\n",
      "[100]\ttrain-rmse:0.912653\ttest-rmse:1.39174\n",
      "[101]\ttrain-rmse:0.910333\ttest-rmse:1.39182\n",
      "[102]\ttrain-rmse:0.90923\ttest-rmse:1.39185\n",
      "[103]\ttrain-rmse:0.905295\ttest-rmse:1.39176\n",
      "[104]\ttrain-rmse:0.90211\ttest-rmse:1.39267\n",
      "[105]\ttrain-rmse:0.899248\ttest-rmse:1.39173\n",
      "[106]\ttrain-rmse:0.896865\ttest-rmse:1.39177\n",
      "[107]\ttrain-rmse:0.895131\ttest-rmse:1.39244\n",
      "[108]\ttrain-rmse:0.892292\ttest-rmse:1.39075\n",
      "[109]\ttrain-rmse:0.890672\ttest-rmse:1.39098\n",
      "[110]\ttrain-rmse:0.888497\ttest-rmse:1.39265\n",
      "[111]\ttrain-rmse:0.886685\ttest-rmse:1.39258\n",
      "[112]\ttrain-rmse:0.884436\ttest-rmse:1.39286\n",
      "[113]\ttrain-rmse:0.8827\ttest-rmse:1.39053\n",
      "[114]\ttrain-rmse:0.881861\ttest-rmse:1.39088\n",
      "[115]\ttrain-rmse:0.879012\ttest-rmse:1.38998\n",
      "[116]\ttrain-rmse:0.876383\ttest-rmse:1.3913\n",
      "[117]\ttrain-rmse:0.873865\ttest-rmse:1.39142\n",
      "[118]\ttrain-rmse:0.872626\ttest-rmse:1.39163\n",
      "[119]\ttrain-rmse:0.871469\ttest-rmse:1.39152\n",
      "[120]\ttrain-rmse:0.869548\ttest-rmse:1.3924\n",
      "[121]\ttrain-rmse:0.867905\ttest-rmse:1.393\n",
      "[122]\ttrain-rmse:0.866111\ttest-rmse:1.39345\n",
      "[123]\ttrain-rmse:0.864948\ttest-rmse:1.39296\n",
      "[124]\ttrain-rmse:0.862788\ttest-rmse:1.39298\n",
      "[125]\ttrain-rmse:0.86002\ttest-rmse:1.3937\n",
      "[126]\ttrain-rmse:0.858036\ttest-rmse:1.3942\n",
      "[127]\ttrain-rmse:0.856776\ttest-rmse:1.3929\n",
      "[128]\ttrain-rmse:0.855247\ttest-rmse:1.39295\n",
      "[129]\ttrain-rmse:0.854074\ttest-rmse:1.3932\n",
      "[130]\ttrain-rmse:0.852248\ttest-rmse:1.39318\n",
      "[131]\ttrain-rmse:0.851106\ttest-rmse:1.393\n",
      "[132]\ttrain-rmse:0.849983\ttest-rmse:1.39328\n",
      "[133]\ttrain-rmse:0.848064\ttest-rmse:1.39357\n",
      "[134]\ttrain-rmse:0.846562\ttest-rmse:1.39433\n",
      "[135]\ttrain-rmse:0.84447\ttest-rmse:1.39286\n",
      "[136]\ttrain-rmse:0.843074\ttest-rmse:1.39199\n",
      "[137]\ttrain-rmse:0.841575\ttest-rmse:1.39217\n",
      "[138]\ttrain-rmse:0.839825\ttest-rmse:1.39233\n",
      "[139]\ttrain-rmse:0.838031\ttest-rmse:1.3931\n",
      "[140]\ttrain-rmse:0.835359\ttest-rmse:1.39274\n",
      "[141]\ttrain-rmse:0.833903\ttest-rmse:1.393\n",
      "[142]\ttrain-rmse:0.831887\ttest-rmse:1.39318\n",
      "[143]\ttrain-rmse:0.830572\ttest-rmse:1.39338\n",
      "[144]\ttrain-rmse:0.82874\ttest-rmse:1.39297\n",
      "[145]\ttrain-rmse:0.827263\ttest-rmse:1.39339\n",
      "Stopping. Best iteration:\n",
      "[115]\ttrain-rmse:0.879012\ttest-rmse:1.38998\n",
      "\n"
     ]
    }
   ],
   "source": [
    "model = xgb.train(params,train_,num_boost_round=500 ,evals=watchlist,early_stopping_rounds=30)"
   ]
  },
  {
   "cell_type": "code",
   "execution_count": 169,
   "metadata": {},
   "outputs": [],
   "source": [
    "score=model.get_score()\n",
    "\n",
    "impt=pd.DataFrame()\n",
    "impt['name']=score.keys()\n",
    "impt['importance']=score.values()\n",
    "\n",
    "impt=impt.sort_values(by ='importance',axis=0,ascending=False)\n",
    "impt.reset_index(drop=True,inplace=True)"
   ]
  },
  {
   "cell_type": "code",
   "execution_count": 170,
   "metadata": {},
   "outputs": [],
   "source": [
    "a=impt[impt['importance']>1]['name']"
   ]
  },
  {
   "cell_type": "code",
   "execution_count": 171,
   "metadata": {},
   "outputs": [
    {
     "data": {
      "text/plain": [
       "0                 *r-谷氨酰基转换酶\n",
       "1         性别_add_*天门冬氨酸氨基转换酶\n",
       "2                  *丙氨酸氨基转换酶\n",
       "3                        白蛋白\n",
       "4                         年龄\n",
       "5          年龄_add_*r-谷氨酰基转换酶\n",
       "6           年龄_sub_红细胞体积分布宽度\n",
       "7                       体检日期\n",
       "8                     *碱性磷酸酶\n",
       "9           年龄_sub_高密度脂蛋白胆固醇\n",
       "               ...          \n",
       "349             年龄_add_红细胞压积\n",
       "350           *球蛋白_add_红细胞计数\n",
       "351          白细胞计数_div_单核细胞%\n",
       "352       白蛋白_mult_红细胞体积分布宽度\n",
       "353      总胆固醇_mult_血小板体积分布宽度\n",
       "354              年龄_sub_*总蛋白\n",
       "355     红细胞平均体积_mult_血小板平均体积\n",
       "356       *碱性磷酸酶_div_红细胞平均体积\n",
       "357    *天门冬氨酸氨基转换酶_div_红细胞计数\n",
       "358          白蛋白_sub_红细胞平均体积\n",
       "Name: name, Length: 359, dtype: object"
      ]
     },
     "execution_count": 171,
     "metadata": {},
     "output_type": "execute_result"
    }
   ],
   "source": [
    "a"
   ]
  },
  {
   "cell_type": "code",
   "execution_count": null,
   "metadata": {},
   "outputs": [],
   "source": [
    "out1=model.predict(xgb.DMatrix(train2.iloc[5642:,:]))"
   ]
  },
  {
   "cell_type": "code",
   "execution_count": null,
   "metadata": {},
   "outputs": [],
   "source": [
    "sns.jointplot(x=out,y=out1,kind='reg')"
   ]
  },
  {
   "cell_type": "code",
   "execution_count": null,
   "metadata": {},
   "outputs": [],
   "source": [
    "np.mean((np.exp(out)-np.exp(test_y))**2)"
   ]
  },
  {
   "cell_type": "code",
   "execution_count": null,
   "metadata": {},
   "outputs": [],
   "source": [
    "pd.DataFrame(out1).to_csv('random_4.csv',index=False,header=False)"
   ]
  },
  {
   "cell_type": "code",
   "execution_count": null,
   "metadata": {},
   "outputs": [],
   "source": [
    "train1.shape"
   ]
  },
  {
   "cell_type": "code",
   "execution_count": 178,
   "metadata": {},
   "outputs": [],
   "source": [
    "xrg=xgb.XGBRegressor(max_depth=4,learning_rate=0.06,\n",
    "n_estimators=121,nthread=-1,gamma=1,colsample_bytree=0.11,subsample=0.8,\n",
    "missing=-999,colsample_bylevel=1)"
   ]
  },
  {
   "cell_type": "code",
   "execution_count": 180,
   "metadata": {},
   "outputs": [
    {
     "name": "stdout",
     "output_type": "stream",
     "text": [
      "2.28606409337\n",
      "1.88092634094\n",
      "1.70505539537\n",
      "1.552281221\n",
      "1.13584243149\n",
      "1.72162675516\n",
      "3.72929427054\n",
      "1.31501630128\n",
      "1.76340310461\n",
      "1.79870295291\n",
      "mean error    1.88882128667\n"
     ]
    }
   ],
   "source": [
    "k,err=cv_function(xrg,b2[a].iloc[:5640],label,b2[a].iloc[5640:],n=10)"
   ]
  },
  {
   "cell_type": "code",
   "execution_count": 181,
   "metadata": {},
   "outputs": [],
   "source": [
    "err1=[1/a for a in err]\n",
    "err1=err1/sum(err1)\n",
    "\n",
    "out_xgb=[(k[i])*err1[i] for i in range(len(k))]\n",
    "\n",
    "out_xgb=sum(k)/len(k)"
   ]
  },
  {
   "cell_type": "code",
   "execution_count": 182,
   "metadata": {},
   "outputs": [],
   "source": [
    "pd.DataFrame(out_xgb).to_csv('xgb_b.csv',index=False,header=False)"
   ]
  },
  {
   "cell_type": "markdown",
   "metadata": {},
   "source": [
    "##  循环特征选择"
   ]
  },
  {
   "cell_type": "markdown",
   "metadata": {},
   "source": [
    "###  Pearson Correlation"
   ]
  },
  {
   "cell_type": "code",
   "execution_count": 198,
   "metadata": {},
   "outputs": [],
   "source": [
    "from scipy.stats import spearmanr"
   ]
  },
  {
   "cell_type": "code",
   "execution_count": 199,
   "metadata": {},
   "outputs": [],
   "source": [
    "col=b2.columns"
   ]
  },
  {
   "cell_type": "code",
   "execution_count": 200,
   "metadata": {},
   "outputs": [],
   "source": [
    "sp_=[]\n",
    "\n",
    "for c in col:\n",
    "    sp_.append(spearmanr(b2[c][:5640],label)[0])"
   ]
  },
  {
   "cell_type": "code",
   "execution_count": 201,
   "metadata": {},
   "outputs": [],
   "source": [
    "corr=pd.DataFrame()\n",
    "corr['name']=col\n",
    "corr['valu']=sp_\n",
    "corr=corr.sort_values(by ='valu',axis=0,ascending=False)\n",
    "corr.reset_index(drop=True,inplace=True)"
   ]
  },
  {
   "cell_type": "code",
   "execution_count": null,
   "metadata": {},
   "outputs": [],
   "source": []
  },
  {
   "cell_type": "markdown",
   "metadata": {},
   "source": [
    "### 最大互信息商 "
   ]
  },
  {
   "cell_type": "code",
   "execution_count": null,
   "metadata": {},
   "outputs": [],
   "source": [
    "from minepy import MINE"
   ]
  },
  {
   "cell_type": "code",
   "execution_count": null,
   "metadata": {},
   "outputs": [],
   "source": [
    "mifm = MINE() "
   ]
  },
  {
   "cell_type": "code",
   "execution_count": null,
   "metadata": {},
   "outputs": [],
   "source": [
    "sp_1=[]\n",
    "\n",
    "for c in col:\n",
    "    mifm.compute_score(pp[c][:5642],label) \n",
    "    sp_1.append(mifm.mic())"
   ]
  },
  {
   "cell_type": "code",
   "execution_count": null,
   "metadata": {},
   "outputs": [],
   "source": [
    "corr1=pd.DataFrame()\n",
    "corr1['name']=col\n",
    "corr1['valu']=sp_1\n",
    "corr1=corr1.sort_values(by ='valu',axis=0,ascending=False)\n",
    "corr1.reset_index(drop=True,inplace=True)"
   ]
  },
  {
   "cell_type": "code",
   "execution_count": null,
   "metadata": {},
   "outputs": [],
   "source": [
    "corr1"
   ]
  },
  {
   "cell_type": "markdown",
   "metadata": {},
   "source": [
    "### 递归消除特征 "
   ]
  },
  {
   "cell_type": "code",
   "execution_count": null,
   "metadata": {},
   "outputs": [],
   "source": [
    "sel = RFE(reg, 1, step=1)"
   ]
  },
  {
   "cell_type": "code",
   "execution_count": null,
   "metadata": {},
   "outputs": [],
   "source": [
    "sel.fit(pp.iloc[:5642],label)"
   ]
  },
  {
   "cell_type": "code",
   "execution_count": null,
   "metadata": {},
   "outputs": [],
   "source": [
    "corr2=pd.DataFrame()\n",
    "corr2['name']=col\n",
    "corr2['valu']=sel.ranking_\n",
    "corr2=corr2.sort_values(by ='valu',axis=0,ascending=False)\n",
    "corr2.reset_index(drop=True,inplace=True)"
   ]
  },
  {
   "cell_type": "code",
   "execution_count": null,
   "metadata": {},
   "outputs": [],
   "source": [
    "corr2"
   ]
  },
  {
   "cell_type": "code",
   "execution_count": null,
   "metadata": {},
   "outputs": [],
   "source": [
    "corr2"
   ]
  },
  {
   "cell_type": "markdown",
   "metadata": {},
   "source": [
    "## Lgb 模型 "
   ]
  },
  {
   "cell_type": "code",
   "execution_count": 184,
   "metadata": {},
   "outputs": [],
   "source": [
    "train_x1,test_x1,train_y1,test_y1=train_test_split(b2[a].iloc[:5640],label,test_size=0.1,random_state=0)\n",
    "\n",
    "train_1=lgb.Dataset(train_x1,label=train_y1)#,feature_name=list(train_x1.columns))\n",
    "test_1=lgb.Dataset(test_x1,label=test_y1,)#feature_name=list(test_x1.columns))"
   ]
  },
  {
   "cell_type": "code",
   "execution_count": 185,
   "metadata": {},
   "outputs": [],
   "source": [
    "param = {\n",
    "        'learning_rate': 0.01,\n",
    "    'boosting_type': 'gbdt',\n",
    "    'objective': 'regression',\n",
    "    'metric': 'rmse',\n",
    "    'sub_feature': 0.9,\n",
    "    'num_leaves': 16,\n",
    "    'colsample_bytree': 0.8,\n",
    "\n",
    "    'max_depth':4,\n",
    "\n",
    "\n",
    "    'min_split_gain':1,\n",
    "    'scale_pos_weight':1,\n",
    "    'num_threads':-1,\n",
    "    \n",
    "    'bagging_fraction' :0.81,\n",
    "    'feature_fraction':0.51,\n",
    "    'metric':'rmse',\n",
    "    'subsample':0.8\n",
    "\n",
    "}\n",
    "param['is_unbalance']='true'"
   ]
  },
  {
   "cell_type": "code",
   "execution_count": 186,
   "metadata": {},
   "outputs": [
    {
     "name": "stdout",
     "output_type": "stream",
     "text": [
      "[1]\ttraining's rmse: 1.54826\tvalid_1's rmse: 1.48086\n",
      "Training until validation scores don't improve for 25 rounds.\n",
      "[2]\ttraining's rmse: 1.54546\tvalid_1's rmse: 1.47941\n",
      "[3]\ttraining's rmse: 1.5427\tvalid_1's rmse: 1.47799\n",
      "[4]\ttraining's rmse: 1.53975\tvalid_1's rmse: 1.4769\n",
      "[5]\ttraining's rmse: 1.5372\tvalid_1's rmse: 1.47584\n",
      "[6]\ttraining's rmse: 1.5343\tvalid_1's rmse: 1.47453\n",
      "[7]\ttraining's rmse: 1.53196\tvalid_1's rmse: 1.47305\n",
      "[8]\ttraining's rmse: 1.52961\tvalid_1's rmse: 1.47183\n",
      "[9]\ttraining's rmse: 1.52719\tvalid_1's rmse: 1.47087\n",
      "[10]\ttraining's rmse: 1.52418\tvalid_1's rmse: 1.46886\n",
      "[11]\ttraining's rmse: 1.52139\tvalid_1's rmse: 1.46771\n",
      "[12]\ttraining's rmse: 1.5187\tvalid_1's rmse: 1.46688\n",
      "[13]\ttraining's rmse: 1.51566\tvalid_1's rmse: 1.46567\n",
      "[14]\ttraining's rmse: 1.51298\tvalid_1's rmse: 1.4649\n",
      "[15]\ttraining's rmse: 1.51049\tvalid_1's rmse: 1.46352\n",
      "[16]\ttraining's rmse: 1.50765\tvalid_1's rmse: 1.46218\n",
      "[17]\ttraining's rmse: 1.50508\tvalid_1's rmse: 1.46124\n",
      "[18]\ttraining's rmse: 1.50247\tvalid_1's rmse: 1.46008\n",
      "[19]\ttraining's rmse: 1.49953\tvalid_1's rmse: 1.45919\n",
      "[20]\ttraining's rmse: 1.49673\tvalid_1's rmse: 1.4583\n",
      "[21]\ttraining's rmse: 1.49434\tvalid_1's rmse: 1.45739\n",
      "[22]\ttraining's rmse: 1.49186\tvalid_1's rmse: 1.45658\n",
      "[23]\ttraining's rmse: 1.48985\tvalid_1's rmse: 1.45562\n",
      "[24]\ttraining's rmse: 1.48741\tvalid_1's rmse: 1.45493\n",
      "[25]\ttraining's rmse: 1.48522\tvalid_1's rmse: 1.45395\n",
      "[26]\ttraining's rmse: 1.48249\tvalid_1's rmse: 1.45277\n",
      "[27]\ttraining's rmse: 1.47987\tvalid_1's rmse: 1.45166\n",
      "[28]\ttraining's rmse: 1.47738\tvalid_1's rmse: 1.451\n",
      "[29]\ttraining's rmse: 1.475\tvalid_1's rmse: 1.44992\n",
      "[30]\ttraining's rmse: 1.47234\tvalid_1's rmse: 1.44866\n",
      "[31]\ttraining's rmse: 1.47006\tvalid_1's rmse: 1.44795\n",
      "[32]\ttraining's rmse: 1.46781\tvalid_1's rmse: 1.44703\n",
      "[33]\ttraining's rmse: 1.46558\tvalid_1's rmse: 1.44633\n",
      "[34]\ttraining's rmse: 1.4635\tvalid_1's rmse: 1.44571\n",
      "[35]\ttraining's rmse: 1.46086\tvalid_1's rmse: 1.44418\n",
      "[36]\ttraining's rmse: 1.45884\tvalid_1's rmse: 1.44359\n",
      "[37]\ttraining's rmse: 1.45668\tvalid_1's rmse: 1.44323\n",
      "[38]\ttraining's rmse: 1.45425\tvalid_1's rmse: 1.44247\n",
      "[39]\ttraining's rmse: 1.45196\tvalid_1's rmse: 1.44139\n",
      "[40]\ttraining's rmse: 1.44997\tvalid_1's rmse: 1.44096\n",
      "[41]\ttraining's rmse: 1.44802\tvalid_1's rmse: 1.44048\n",
      "[42]\ttraining's rmse: 1.44588\tvalid_1's rmse: 1.43944\n",
      "[43]\ttraining's rmse: 1.444\tvalid_1's rmse: 1.43898\n",
      "[44]\ttraining's rmse: 1.44177\tvalid_1's rmse: 1.43842\n",
      "[45]\ttraining's rmse: 1.43975\tvalid_1's rmse: 1.43762\n",
      "[46]\ttraining's rmse: 1.43725\tvalid_1's rmse: 1.43711\n",
      "[47]\ttraining's rmse: 1.43518\tvalid_1's rmse: 1.4365\n",
      "[48]\ttraining's rmse: 1.43276\tvalid_1's rmse: 1.43587\n",
      "[49]\ttraining's rmse: 1.43059\tvalid_1's rmse: 1.43499\n",
      "[50]\ttraining's rmse: 1.4283\tvalid_1's rmse: 1.43364\n",
      "[51]\ttraining's rmse: 1.42606\tvalid_1's rmse: 1.43253\n",
      "[52]\ttraining's rmse: 1.42448\tvalid_1's rmse: 1.43209\n",
      "[53]\ttraining's rmse: 1.42283\tvalid_1's rmse: 1.43171\n",
      "[54]\ttraining's rmse: 1.42108\tvalid_1's rmse: 1.43061\n",
      "[55]\ttraining's rmse: 1.41914\tvalid_1's rmse: 1.42984\n",
      "[56]\ttraining's rmse: 1.41699\tvalid_1's rmse: 1.42939\n",
      "[57]\ttraining's rmse: 1.41488\tvalid_1's rmse: 1.42891\n",
      "[58]\ttraining's rmse: 1.41287\tvalid_1's rmse: 1.42822\n",
      "[59]\ttraining's rmse: 1.41119\tvalid_1's rmse: 1.42791\n",
      "[60]\ttraining's rmse: 1.40941\tvalid_1's rmse: 1.4276\n",
      "[61]\ttraining's rmse: 1.40779\tvalid_1's rmse: 1.42693\n",
      "[62]\ttraining's rmse: 1.40622\tvalid_1's rmse: 1.42619\n",
      "[63]\ttraining's rmse: 1.40454\tvalid_1's rmse: 1.42553\n",
      "[64]\ttraining's rmse: 1.40287\tvalid_1's rmse: 1.42552\n",
      "[65]\ttraining's rmse: 1.40115\tvalid_1's rmse: 1.42498\n",
      "[66]\ttraining's rmse: 1.39976\tvalid_1's rmse: 1.42456\n",
      "[67]\ttraining's rmse: 1.39838\tvalid_1's rmse: 1.4242\n",
      "[68]\ttraining's rmse: 1.39692\tvalid_1's rmse: 1.42396\n",
      "[69]\ttraining's rmse: 1.3952\tvalid_1's rmse: 1.4235\n",
      "[70]\ttraining's rmse: 1.39361\tvalid_1's rmse: 1.42294\n",
      "[71]\ttraining's rmse: 1.39224\tvalid_1's rmse: 1.4225\n",
      "[72]\ttraining's rmse: 1.39071\tvalid_1's rmse: 1.4223\n",
      "[73]\ttraining's rmse: 1.3888\tvalid_1's rmse: 1.42185\n",
      "[74]\ttraining's rmse: 1.38746\tvalid_1's rmse: 1.42161\n",
      "[75]\ttraining's rmse: 1.38558\tvalid_1's rmse: 1.42101\n",
      "[76]\ttraining's rmse: 1.38396\tvalid_1's rmse: 1.42035\n",
      "[77]\ttraining's rmse: 1.38224\tvalid_1's rmse: 1.41974\n",
      "[78]\ttraining's rmse: 1.38094\tvalid_1's rmse: 1.41913\n",
      "[79]\ttraining's rmse: 1.3795\tvalid_1's rmse: 1.4187\n",
      "[80]\ttraining's rmse: 1.37772\tvalid_1's rmse: 1.41849\n",
      "[81]\ttraining's rmse: 1.37614\tvalid_1's rmse: 1.41845\n",
      "[82]\ttraining's rmse: 1.37473\tvalid_1's rmse: 1.41799\n",
      "[83]\ttraining's rmse: 1.37265\tvalid_1's rmse: 1.4176\n",
      "[84]\ttraining's rmse: 1.37119\tvalid_1's rmse: 1.41725\n",
      "[85]\ttraining's rmse: 1.36943\tvalid_1's rmse: 1.41709\n",
      "[86]\ttraining's rmse: 1.3679\tvalid_1's rmse: 1.41654\n",
      "[87]\ttraining's rmse: 1.36649\tvalid_1's rmse: 1.41632\n",
      "[88]\ttraining's rmse: 1.36524\tvalid_1's rmse: 1.41596\n",
      "[89]\ttraining's rmse: 1.36388\tvalid_1's rmse: 1.41519\n",
      "[90]\ttraining's rmse: 1.36229\tvalid_1's rmse: 1.4148\n",
      "[91]\ttraining's rmse: 1.36076\tvalid_1's rmse: 1.41421\n",
      "[92]\ttraining's rmse: 1.35909\tvalid_1's rmse: 1.41342\n",
      "[93]\ttraining's rmse: 1.35751\tvalid_1's rmse: 1.41322\n",
      "[94]\ttraining's rmse: 1.35611\tvalid_1's rmse: 1.41294\n",
      "[95]\ttraining's rmse: 1.35426\tvalid_1's rmse: 1.41251\n",
      "[96]\ttraining's rmse: 1.3529\tvalid_1's rmse: 1.41231\n",
      "[97]\ttraining's rmse: 1.35149\tvalid_1's rmse: 1.41183\n",
      "[98]\ttraining's rmse: 1.35038\tvalid_1's rmse: 1.41152\n",
      "[99]\ttraining's rmse: 1.34923\tvalid_1's rmse: 1.41108\n",
      "[100]\ttraining's rmse: 1.34768\tvalid_1's rmse: 1.41081\n",
      "[101]\ttraining's rmse: 1.34622\tvalid_1's rmse: 1.41082\n",
      "[102]\ttraining's rmse: 1.34503\tvalid_1's rmse: 1.41068\n",
      "[103]\ttraining's rmse: 1.34372\tvalid_1's rmse: 1.41044\n",
      "[104]\ttraining's rmse: 1.3422\tvalid_1's rmse: 1.40992\n",
      "[105]\ttraining's rmse: 1.34096\tvalid_1's rmse: 1.40901\n",
      "[106]\ttraining's rmse: 1.33949\tvalid_1's rmse: 1.40878\n",
      "[107]\ttraining's rmse: 1.33775\tvalid_1's rmse: 1.40868\n",
      "[108]\ttraining's rmse: 1.33634\tvalid_1's rmse: 1.40826\n",
      "[109]\ttraining's rmse: 1.3352\tvalid_1's rmse: 1.40843\n",
      "[110]\ttraining's rmse: 1.33395\tvalid_1's rmse: 1.40838\n",
      "[111]\ttraining's rmse: 1.33275\tvalid_1's rmse: 1.40805\n",
      "[112]\ttraining's rmse: 1.33103\tvalid_1's rmse: 1.40654\n",
      "[113]\ttraining's rmse: 1.32958\tvalid_1's rmse: 1.40642\n",
      "[114]\ttraining's rmse: 1.32808\tvalid_1's rmse: 1.4061\n",
      "[115]\ttraining's rmse: 1.32709\tvalid_1's rmse: 1.40603\n",
      "[116]\ttraining's rmse: 1.3257\tvalid_1's rmse: 1.40548\n",
      "[117]\ttraining's rmse: 1.32461\tvalid_1's rmse: 1.40557\n",
      "[118]\ttraining's rmse: 1.32318\tvalid_1's rmse: 1.405\n",
      "[119]\ttraining's rmse: 1.322\tvalid_1's rmse: 1.40503\n",
      "[120]\ttraining's rmse: 1.32054\tvalid_1's rmse: 1.40456\n",
      "[121]\ttraining's rmse: 1.31909\tvalid_1's rmse: 1.40411\n",
      "[122]\ttraining's rmse: 1.3179\tvalid_1's rmse: 1.40351\n",
      "[123]\ttraining's rmse: 1.31671\tvalid_1's rmse: 1.40317\n",
      "[124]\ttraining's rmse: 1.31571\tvalid_1's rmse: 1.40305\n",
      "[125]\ttraining's rmse: 1.31429\tvalid_1's rmse: 1.40286\n",
      "[126]\ttraining's rmse: 1.31328\tvalid_1's rmse: 1.40277\n",
      "[127]\ttraining's rmse: 1.31219\tvalid_1's rmse: 1.40251\n",
      "[128]\ttraining's rmse: 1.31096\tvalid_1's rmse: 1.40236\n",
      "[129]\ttraining's rmse: 1.30983\tvalid_1's rmse: 1.40209\n",
      "[130]\ttraining's rmse: 1.30823\tvalid_1's rmse: 1.40151\n",
      "[131]\ttraining's rmse: 1.3074\tvalid_1's rmse: 1.40146\n",
      "[132]\ttraining's rmse: 1.30613\tvalid_1's rmse: 1.40151\n",
      "[133]\ttraining's rmse: 1.30459\tvalid_1's rmse: 1.40068\n",
      "[134]\ttraining's rmse: 1.3036\tvalid_1's rmse: 1.40058\n",
      "[135]\ttraining's rmse: 1.30263\tvalid_1's rmse: 1.39995\n",
      "[136]\ttraining's rmse: 1.30117\tvalid_1's rmse: 1.39996\n",
      "[137]\ttraining's rmse: 1.30003\tvalid_1's rmse: 1.39949\n",
      "[138]\ttraining's rmse: 1.29869\tvalid_1's rmse: 1.39935\n",
      "[139]\ttraining's rmse: 1.29737\tvalid_1's rmse: 1.39916\n",
      "[140]\ttraining's rmse: 1.29632\tvalid_1's rmse: 1.39903\n",
      "[141]\ttraining's rmse: 1.29517\tvalid_1's rmse: 1.39861\n",
      "[142]\ttraining's rmse: 1.29355\tvalid_1's rmse: 1.39858\n",
      "[143]\ttraining's rmse: 1.29219\tvalid_1's rmse: 1.3984\n",
      "[144]\ttraining's rmse: 1.29089\tvalid_1's rmse: 1.39766\n",
      "[145]\ttraining's rmse: 1.28966\tvalid_1's rmse: 1.39733\n",
      "[146]\ttraining's rmse: 1.28867\tvalid_1's rmse: 1.39651\n",
      "[147]\ttraining's rmse: 1.28751\tvalid_1's rmse: 1.39639\n",
      "[148]\ttraining's rmse: 1.2865\tvalid_1's rmse: 1.39612\n",
      "[149]\ttraining's rmse: 1.2853\tvalid_1's rmse: 1.39597\n",
      "[150]\ttraining's rmse: 1.28438\tvalid_1's rmse: 1.3952\n",
      "[151]\ttraining's rmse: 1.28326\tvalid_1's rmse: 1.39485\n",
      "[152]\ttraining's rmse: 1.28236\tvalid_1's rmse: 1.39473\n",
      "[153]\ttraining's rmse: 1.28129\tvalid_1's rmse: 1.39475\n",
      "[154]\ttraining's rmse: 1.28022\tvalid_1's rmse: 1.3943\n",
      "[155]\ttraining's rmse: 1.27932\tvalid_1's rmse: 1.39434\n",
      "[156]\ttraining's rmse: 1.27855\tvalid_1's rmse: 1.39395\n",
      "[157]\ttraining's rmse: 1.2773\tvalid_1's rmse: 1.39392\n",
      "[158]\ttraining's rmse: 1.27625\tvalid_1's rmse: 1.39381\n",
      "[159]\ttraining's rmse: 1.2755\tvalid_1's rmse: 1.39373\n",
      "[160]\ttraining's rmse: 1.27472\tvalid_1's rmse: 1.39378\n",
      "[161]\ttraining's rmse: 1.27361\tvalid_1's rmse: 1.39368\n",
      "[162]\ttraining's rmse: 1.27277\tvalid_1's rmse: 1.3935\n",
      "[163]\ttraining's rmse: 1.27167\tvalid_1's rmse: 1.39303\n",
      "[164]\ttraining's rmse: 1.2705\tvalid_1's rmse: 1.3929\n",
      "[165]\ttraining's rmse: 1.26909\tvalid_1's rmse: 1.39246\n",
      "[166]\ttraining's rmse: 1.26777\tvalid_1's rmse: 1.3918\n",
      "[167]\ttraining's rmse: 1.267\tvalid_1's rmse: 1.39161\n",
      "[168]\ttraining's rmse: 1.26589\tvalid_1's rmse: 1.39141\n",
      "[169]\ttraining's rmse: 1.26511\tvalid_1's rmse: 1.3911\n",
      "[170]\ttraining's rmse: 1.26368\tvalid_1's rmse: 1.391\n",
      "[171]\ttraining's rmse: 1.26272\tvalid_1's rmse: 1.39076\n",
      "[172]\ttraining's rmse: 1.26197\tvalid_1's rmse: 1.39052\n",
      "[173]\ttraining's rmse: 1.26103\tvalid_1's rmse: 1.39017\n",
      "[174]\ttraining's rmse: 1.25973\tvalid_1's rmse: 1.38865\n",
      "[175]\ttraining's rmse: 1.25852\tvalid_1's rmse: 1.38874\n",
      "[176]\ttraining's rmse: 1.2574\tvalid_1's rmse: 1.38816\n",
      "[177]\ttraining's rmse: 1.25654\tvalid_1's rmse: 1.38828\n",
      "[178]\ttraining's rmse: 1.25569\tvalid_1's rmse: 1.38837\n",
      "[179]\ttraining's rmse: 1.25498\tvalid_1's rmse: 1.38824\n",
      "[180]\ttraining's rmse: 1.25395\tvalid_1's rmse: 1.38769\n",
      "[181]\ttraining's rmse: 1.25294\tvalid_1's rmse: 1.3874\n",
      "[182]\ttraining's rmse: 1.25155\tvalid_1's rmse: 1.38727\n",
      "[183]\ttraining's rmse: 1.25054\tvalid_1's rmse: 1.38733\n",
      "[184]\ttraining's rmse: 1.24927\tvalid_1's rmse: 1.38626\n",
      "[185]\ttraining's rmse: 1.248\tvalid_1's rmse: 1.38574\n",
      "[186]\ttraining's rmse: 1.24745\tvalid_1's rmse: 1.3857\n",
      "[187]\ttraining's rmse: 1.24649\tvalid_1's rmse: 1.38584\n",
      "[188]\ttraining's rmse: 1.24555\tvalid_1's rmse: 1.38546\n",
      "[189]\ttraining's rmse: 1.24485\tvalid_1's rmse: 1.38542\n",
      "[190]\ttraining's rmse: 1.24385\tvalid_1's rmse: 1.3854\n",
      "[191]\ttraining's rmse: 1.24302\tvalid_1's rmse: 1.38525\n",
      "[192]\ttraining's rmse: 1.24235\tvalid_1's rmse: 1.38506\n",
      "[193]\ttraining's rmse: 1.24164\tvalid_1's rmse: 1.38484\n",
      "[194]\ttraining's rmse: 1.24095\tvalid_1's rmse: 1.38469\n",
      "[195]\ttraining's rmse: 1.23998\tvalid_1's rmse: 1.38457\n",
      "[196]\ttraining's rmse: 1.23918\tvalid_1's rmse: 1.3847\n",
      "[197]\ttraining's rmse: 1.23847\tvalid_1's rmse: 1.38464\n",
      "[198]\ttraining's rmse: 1.23734\tvalid_1's rmse: 1.38437\n",
      "[199]\ttraining's rmse: 1.23663\tvalid_1's rmse: 1.38398\n",
      "[200]\ttraining's rmse: 1.236\tvalid_1's rmse: 1.38379\n",
      "[201]\ttraining's rmse: 1.23494\tvalid_1's rmse: 1.38333\n",
      "[202]\ttraining's rmse: 1.23382\tvalid_1's rmse: 1.38319\n",
      "[203]\ttraining's rmse: 1.2332\tvalid_1's rmse: 1.38293\n",
      "[204]\ttraining's rmse: 1.2321\tvalid_1's rmse: 1.38254\n",
      "[205]\ttraining's rmse: 1.23125\tvalid_1's rmse: 1.38243\n",
      "[206]\ttraining's rmse: 1.23061\tvalid_1's rmse: 1.38241\n",
      "[207]\ttraining's rmse: 1.22986\tvalid_1's rmse: 1.38221\n",
      "[208]\ttraining's rmse: 1.22887\tvalid_1's rmse: 1.3822\n",
      "[209]\ttraining's rmse: 1.22832\tvalid_1's rmse: 1.38182\n",
      "[210]\ttraining's rmse: 1.22764\tvalid_1's rmse: 1.38158\n",
      "[211]\ttraining's rmse: 1.22706\tvalid_1's rmse: 1.3816\n",
      "[212]\ttraining's rmse: 1.22627\tvalid_1's rmse: 1.38135\n",
      "[213]\ttraining's rmse: 1.22553\tvalid_1's rmse: 1.38133\n",
      "[214]\ttraining's rmse: 1.2249\tvalid_1's rmse: 1.38137\n",
      "[215]\ttraining's rmse: 1.2241\tvalid_1's rmse: 1.381\n",
      "[216]\ttraining's rmse: 1.22336\tvalid_1's rmse: 1.38105\n",
      "[217]\ttraining's rmse: 1.22229\tvalid_1's rmse: 1.3811\n",
      "[218]\ttraining's rmse: 1.22106\tvalid_1's rmse: 1.38061\n",
      "[219]\ttraining's rmse: 1.2197\tvalid_1's rmse: 1.38062\n",
      "[220]\ttraining's rmse: 1.21872\tvalid_1's rmse: 1.38041\n",
      "[221]\ttraining's rmse: 1.21788\tvalid_1's rmse: 1.38044\n",
      "[222]\ttraining's rmse: 1.2172\tvalid_1's rmse: 1.38033\n",
      "[223]\ttraining's rmse: 1.21592\tvalid_1's rmse: 1.37965\n",
      "[224]\ttraining's rmse: 1.21538\tvalid_1's rmse: 1.3794\n",
      "[225]\ttraining's rmse: 1.21445\tvalid_1's rmse: 1.37907\n",
      "[226]\ttraining's rmse: 1.21344\tvalid_1's rmse: 1.37906\n",
      "[227]\ttraining's rmse: 1.21255\tvalid_1's rmse: 1.37921\n",
      "[228]\ttraining's rmse: 1.21182\tvalid_1's rmse: 1.37886\n",
      "[229]\ttraining's rmse: 1.21092\tvalid_1's rmse: 1.37799\n"
     ]
    },
    {
     "name": "stdout",
     "output_type": "stream",
     "text": [
      "[230]\ttraining's rmse: 1.21023\tvalid_1's rmse: 1.37752\n",
      "[231]\ttraining's rmse: 1.20963\tvalid_1's rmse: 1.37731\n",
      "[232]\ttraining's rmse: 1.20918\tvalid_1's rmse: 1.37733\n",
      "[233]\ttraining's rmse: 1.20839\tvalid_1's rmse: 1.37745\n",
      "[234]\ttraining's rmse: 1.20775\tvalid_1's rmse: 1.37745\n",
      "[235]\ttraining's rmse: 1.20662\tvalid_1's rmse: 1.3769\n",
      "[236]\ttraining's rmse: 1.20567\tvalid_1's rmse: 1.37698\n",
      "[237]\ttraining's rmse: 1.20527\tvalid_1's rmse: 1.37675\n",
      "[238]\ttraining's rmse: 1.20453\tvalid_1's rmse: 1.37691\n",
      "[239]\ttraining's rmse: 1.204\tvalid_1's rmse: 1.37697\n",
      "[240]\ttraining's rmse: 1.2036\tvalid_1's rmse: 1.37695\n",
      "[241]\ttraining's rmse: 1.20247\tvalid_1's rmse: 1.37533\n",
      "[242]\ttraining's rmse: 1.20204\tvalid_1's rmse: 1.3753\n",
      "[243]\ttraining's rmse: 1.20138\tvalid_1's rmse: 1.37528\n",
      "[244]\ttraining's rmse: 1.20049\tvalid_1's rmse: 1.37535\n",
      "[245]\ttraining's rmse: 1.19987\tvalid_1's rmse: 1.37545\n",
      "[246]\ttraining's rmse: 1.1992\tvalid_1's rmse: 1.37561\n",
      "[247]\ttraining's rmse: 1.19866\tvalid_1's rmse: 1.37547\n",
      "[248]\ttraining's rmse: 1.19823\tvalid_1's rmse: 1.37554\n",
      "[249]\ttraining's rmse: 1.19705\tvalid_1's rmse: 1.37538\n",
      "[250]\ttraining's rmse: 1.19628\tvalid_1's rmse: 1.37505\n",
      "[251]\ttraining's rmse: 1.1955\tvalid_1's rmse: 1.375\n",
      "[252]\ttraining's rmse: 1.19482\tvalid_1's rmse: 1.37475\n",
      "[253]\ttraining's rmse: 1.19372\tvalid_1's rmse: 1.37447\n",
      "[254]\ttraining's rmse: 1.19281\tvalid_1's rmse: 1.37426\n",
      "[255]\ttraining's rmse: 1.19211\tvalid_1's rmse: 1.37442\n",
      "[256]\ttraining's rmse: 1.19146\tvalid_1's rmse: 1.37437\n",
      "[257]\ttraining's rmse: 1.191\tvalid_1's rmse: 1.37453\n",
      "[258]\ttraining's rmse: 1.19016\tvalid_1's rmse: 1.37413\n",
      "[259]\ttraining's rmse: 1.18925\tvalid_1's rmse: 1.37417\n",
      "[260]\ttraining's rmse: 1.18846\tvalid_1's rmse: 1.37423\n",
      "[261]\ttraining's rmse: 1.1877\tvalid_1's rmse: 1.37408\n",
      "[262]\ttraining's rmse: 1.18724\tvalid_1's rmse: 1.37413\n",
      "[263]\ttraining's rmse: 1.18645\tvalid_1's rmse: 1.37418\n",
      "[264]\ttraining's rmse: 1.18589\tvalid_1's rmse: 1.37431\n",
      "[265]\ttraining's rmse: 1.1853\tvalid_1's rmse: 1.37424\n",
      "[266]\ttraining's rmse: 1.18452\tvalid_1's rmse: 1.37401\n",
      "[267]\ttraining's rmse: 1.18405\tvalid_1's rmse: 1.37402\n",
      "[268]\ttraining's rmse: 1.18361\tvalid_1's rmse: 1.37393\n",
      "[269]\ttraining's rmse: 1.18281\tvalid_1's rmse: 1.37365\n",
      "[270]\ttraining's rmse: 1.18175\tvalid_1's rmse: 1.37351\n",
      "[271]\ttraining's rmse: 1.18107\tvalid_1's rmse: 1.37348\n",
      "[272]\ttraining's rmse: 1.17998\tvalid_1's rmse: 1.37341\n",
      "[273]\ttraining's rmse: 1.17924\tvalid_1's rmse: 1.37285\n",
      "[274]\ttraining's rmse: 1.17877\tvalid_1's rmse: 1.37308\n",
      "[275]\ttraining's rmse: 1.17812\tvalid_1's rmse: 1.37319\n",
      "[276]\ttraining's rmse: 1.17773\tvalid_1's rmse: 1.3733\n",
      "[277]\ttraining's rmse: 1.17711\tvalid_1's rmse: 1.37343\n",
      "[278]\ttraining's rmse: 1.17615\tvalid_1's rmse: 1.37281\n",
      "[279]\ttraining's rmse: 1.1754\tvalid_1's rmse: 1.37266\n",
      "[280]\ttraining's rmse: 1.17466\tvalid_1's rmse: 1.37274\n",
      "[281]\ttraining's rmse: 1.17405\tvalid_1's rmse: 1.37252\n",
      "[282]\ttraining's rmse: 1.17361\tvalid_1's rmse: 1.37225\n",
      "[283]\ttraining's rmse: 1.17291\tvalid_1's rmse: 1.37235\n",
      "[284]\ttraining's rmse: 1.17234\tvalid_1's rmse: 1.3724\n",
      "[285]\ttraining's rmse: 1.17195\tvalid_1's rmse: 1.37228\n",
      "[286]\ttraining's rmse: 1.17138\tvalid_1's rmse: 1.3724\n",
      "[287]\ttraining's rmse: 1.17074\tvalid_1's rmse: 1.37238\n",
      "[288]\ttraining's rmse: 1.16971\tvalid_1's rmse: 1.37143\n",
      "[289]\ttraining's rmse: 1.16924\tvalid_1's rmse: 1.37132\n",
      "[290]\ttraining's rmse: 1.16871\tvalid_1's rmse: 1.37143\n",
      "[291]\ttraining's rmse: 1.16819\tvalid_1's rmse: 1.37154\n",
      "[292]\ttraining's rmse: 1.16737\tvalid_1's rmse: 1.37155\n",
      "[293]\ttraining's rmse: 1.16682\tvalid_1's rmse: 1.37169\n",
      "[294]\ttraining's rmse: 1.16615\tvalid_1's rmse: 1.37142\n",
      "[295]\ttraining's rmse: 1.16553\tvalid_1's rmse: 1.37135\n",
      "[296]\ttraining's rmse: 1.16491\tvalid_1's rmse: 1.37135\n",
      "[297]\ttraining's rmse: 1.16434\tvalid_1's rmse: 1.37152\n",
      "[298]\ttraining's rmse: 1.16341\tvalid_1's rmse: 1.37131\n",
      "[299]\ttraining's rmse: 1.16236\tvalid_1's rmse: 1.37112\n",
      "[300]\ttraining's rmse: 1.16182\tvalid_1's rmse: 1.37113\n",
      "[301]\ttraining's rmse: 1.16133\tvalid_1's rmse: 1.37118\n",
      "[302]\ttraining's rmse: 1.16068\tvalid_1's rmse: 1.37079\n",
      "[303]\ttraining's rmse: 1.16003\tvalid_1's rmse: 1.37076\n",
      "[304]\ttraining's rmse: 1.1595\tvalid_1's rmse: 1.37052\n",
      "[305]\ttraining's rmse: 1.15904\tvalid_1's rmse: 1.37051\n",
      "[306]\ttraining's rmse: 1.15857\tvalid_1's rmse: 1.37033\n",
      "[307]\ttraining's rmse: 1.15756\tvalid_1's rmse: 1.37024\n",
      "[308]\ttraining's rmse: 1.15705\tvalid_1's rmse: 1.3704\n",
      "[309]\ttraining's rmse: 1.15646\tvalid_1's rmse: 1.37046\n",
      "[310]\ttraining's rmse: 1.15601\tvalid_1's rmse: 1.37039\n",
      "[311]\ttraining's rmse: 1.15543\tvalid_1's rmse: 1.37003\n",
      "[312]\ttraining's rmse: 1.15439\tvalid_1's rmse: 1.37\n",
      "[313]\ttraining's rmse: 1.1539\tvalid_1's rmse: 1.36997\n",
      "[314]\ttraining's rmse: 1.15305\tvalid_1's rmse: 1.36985\n",
      "[315]\ttraining's rmse: 1.15262\tvalid_1's rmse: 1.36986\n",
      "[316]\ttraining's rmse: 1.15215\tvalid_1's rmse: 1.36996\n",
      "[317]\ttraining's rmse: 1.15124\tvalid_1's rmse: 1.36954\n",
      "[318]\ttraining's rmse: 1.1508\tvalid_1's rmse: 1.36951\n",
      "[319]\ttraining's rmse: 1.15037\tvalid_1's rmse: 1.36952\n",
      "[320]\ttraining's rmse: 1.14988\tvalid_1's rmse: 1.3694\n",
      "[321]\ttraining's rmse: 1.14925\tvalid_1's rmse: 1.36959\n",
      "[322]\ttraining's rmse: 1.14826\tvalid_1's rmse: 1.36958\n",
      "[323]\ttraining's rmse: 1.14743\tvalid_1's rmse: 1.36955\n",
      "[324]\ttraining's rmse: 1.14684\tvalid_1's rmse: 1.36968\n",
      "[325]\ttraining's rmse: 1.14615\tvalid_1's rmse: 1.36971\n",
      "[326]\ttraining's rmse: 1.14566\tvalid_1's rmse: 1.36956\n",
      "[327]\ttraining's rmse: 1.14504\tvalid_1's rmse: 1.36948\n",
      "[328]\ttraining's rmse: 1.14414\tvalid_1's rmse: 1.36942\n",
      "[329]\ttraining's rmse: 1.14373\tvalid_1's rmse: 1.36943\n",
      "[330]\ttraining's rmse: 1.14292\tvalid_1's rmse: 1.36958\n",
      "[331]\ttraining's rmse: 1.1424\tvalid_1's rmse: 1.36959\n",
      "[332]\ttraining's rmse: 1.14209\tvalid_1's rmse: 1.36956\n",
      "[333]\ttraining's rmse: 1.14166\tvalid_1's rmse: 1.3695\n",
      "[334]\ttraining's rmse: 1.14082\tvalid_1's rmse: 1.36918\n",
      "[335]\ttraining's rmse: 1.14018\tvalid_1's rmse: 1.36853\n",
      "[336]\ttraining's rmse: 1.13982\tvalid_1's rmse: 1.3687\n",
      "[337]\ttraining's rmse: 1.13936\tvalid_1's rmse: 1.36874\n",
      "[338]\ttraining's rmse: 1.13906\tvalid_1's rmse: 1.36857\n",
      "[339]\ttraining's rmse: 1.13869\tvalid_1's rmse: 1.36868\n",
      "[340]\ttraining's rmse: 1.1382\tvalid_1's rmse: 1.36864\n",
      "[341]\ttraining's rmse: 1.13759\tvalid_1's rmse: 1.36847\n",
      "[342]\ttraining's rmse: 1.13706\tvalid_1's rmse: 1.36827\n",
      "[343]\ttraining's rmse: 1.13647\tvalid_1's rmse: 1.36841\n",
      "[344]\ttraining's rmse: 1.13567\tvalid_1's rmse: 1.36835\n",
      "[345]\ttraining's rmse: 1.13496\tvalid_1's rmse: 1.36846\n",
      "[346]\ttraining's rmse: 1.13467\tvalid_1's rmse: 1.3683\n",
      "[347]\ttraining's rmse: 1.13405\tvalid_1's rmse: 1.36819\n",
      "[348]\ttraining's rmse: 1.13351\tvalid_1's rmse: 1.36838\n",
      "[349]\ttraining's rmse: 1.13306\tvalid_1's rmse: 1.36835\n",
      "[350]\ttraining's rmse: 1.13256\tvalid_1's rmse: 1.36854\n",
      "[351]\ttraining's rmse: 1.13183\tvalid_1's rmse: 1.36822\n",
      "[352]\ttraining's rmse: 1.13124\tvalid_1's rmse: 1.36813\n",
      "[353]\ttraining's rmse: 1.13051\tvalid_1's rmse: 1.36814\n",
      "[354]\ttraining's rmse: 1.13014\tvalid_1's rmse: 1.36812\n",
      "[355]\ttraining's rmse: 1.12949\tvalid_1's rmse: 1.36757\n",
      "[356]\ttraining's rmse: 1.12892\tvalid_1's rmse: 1.36749\n",
      "[357]\ttraining's rmse: 1.1284\tvalid_1's rmse: 1.36775\n",
      "[358]\ttraining's rmse: 1.12797\tvalid_1's rmse: 1.36766\n",
      "[359]\ttraining's rmse: 1.12753\tvalid_1's rmse: 1.36763\n",
      "[360]\ttraining's rmse: 1.12723\tvalid_1's rmse: 1.36759\n",
      "[361]\ttraining's rmse: 1.12688\tvalid_1's rmse: 1.3676\n",
      "[362]\ttraining's rmse: 1.1261\tvalid_1's rmse: 1.36747\n",
      "[363]\ttraining's rmse: 1.12564\tvalid_1's rmse: 1.36718\n",
      "[364]\ttraining's rmse: 1.12518\tvalid_1's rmse: 1.36723\n",
      "[365]\ttraining's rmse: 1.12443\tvalid_1's rmse: 1.36721\n",
      "[366]\ttraining's rmse: 1.12393\tvalid_1's rmse: 1.36712\n",
      "[367]\ttraining's rmse: 1.12318\tvalid_1's rmse: 1.36714\n",
      "[368]\ttraining's rmse: 1.12266\tvalid_1's rmse: 1.36703\n",
      "[369]\ttraining's rmse: 1.12237\tvalid_1's rmse: 1.36693\n",
      "[370]\ttraining's rmse: 1.12144\tvalid_1's rmse: 1.36694\n",
      "[371]\ttraining's rmse: 1.12055\tvalid_1's rmse: 1.36694\n",
      "[372]\ttraining's rmse: 1.12032\tvalid_1's rmse: 1.36694\n",
      "[373]\ttraining's rmse: 1.11988\tvalid_1's rmse: 1.36702\n",
      "[374]\ttraining's rmse: 1.11949\tvalid_1's rmse: 1.36709\n",
      "[375]\ttraining's rmse: 1.11904\tvalid_1's rmse: 1.36672\n",
      "[376]\ttraining's rmse: 1.1186\tvalid_1's rmse: 1.36681\n",
      "[377]\ttraining's rmse: 1.11803\tvalid_1's rmse: 1.36696\n",
      "[378]\ttraining's rmse: 1.11754\tvalid_1's rmse: 1.36725\n",
      "[379]\ttraining's rmse: 1.11701\tvalid_1's rmse: 1.36749\n",
      "[380]\ttraining's rmse: 1.11649\tvalid_1's rmse: 1.36749\n",
      "[381]\ttraining's rmse: 1.11614\tvalid_1's rmse: 1.36756\n",
      "[382]\ttraining's rmse: 1.11574\tvalid_1's rmse: 1.36754\n",
      "[383]\ttraining's rmse: 1.11503\tvalid_1's rmse: 1.36776\n",
      "[384]\ttraining's rmse: 1.1142\tvalid_1's rmse: 1.36754\n",
      "[385]\ttraining's rmse: 1.1138\tvalid_1's rmse: 1.36775\n",
      "[386]\ttraining's rmse: 1.11336\tvalid_1's rmse: 1.36792\n",
      "[387]\ttraining's rmse: 1.11299\tvalid_1's rmse: 1.36801\n",
      "[388]\ttraining's rmse: 1.11245\tvalid_1's rmse: 1.36818\n",
      "[389]\ttraining's rmse: 1.11202\tvalid_1's rmse: 1.36791\n",
      "[390]\ttraining's rmse: 1.11128\tvalid_1's rmse: 1.3682\n",
      "[391]\ttraining's rmse: 1.11084\tvalid_1's rmse: 1.36814\n",
      "[392]\ttraining's rmse: 1.11038\tvalid_1's rmse: 1.36839\n",
      "[393]\ttraining's rmse: 1.10993\tvalid_1's rmse: 1.36843\n",
      "[394]\ttraining's rmse: 1.10947\tvalid_1's rmse: 1.36845\n",
      "[395]\ttraining's rmse: 1.10914\tvalid_1's rmse: 1.36842\n",
      "[396]\ttraining's rmse: 1.10863\tvalid_1's rmse: 1.36848\n",
      "[397]\ttraining's rmse: 1.10802\tvalid_1's rmse: 1.36863\n",
      "[398]\ttraining's rmse: 1.10765\tvalid_1's rmse: 1.36874\n",
      "[399]\ttraining's rmse: 1.10725\tvalid_1's rmse: 1.36858\n"
     ]
    },
    {
     "name": "stdout",
     "output_type": "stream",
     "text": [
      "[400]\ttraining's rmse: 1.1068\tvalid_1's rmse: 1.36838\n",
      "Early stopping, best iteration is:\n",
      "[375]\ttraining's rmse: 1.11904\tvalid_1's rmse: 1.36672\n"
     ]
    }
   ],
   "source": [
    "model=lgb.train(param,train_1,num_boost_round=1500,valid_sets=[train_1,test_1],early_stopping_rounds=25)"
   ]
  },
  {
   "cell_type": "code",
   "execution_count": 195,
   "metadata": {},
   "outputs": [],
   "source": [
    "lrg=lgb.LGBMRegressor( colsample_bytree=0.11, learning_rate=0.01,\n",
    "       max_bin=255, max_depth=4, min_child_samples=20,\n",
    "       min_child_weight=0.001, min_split_gain=0.51, n_estimators=400,\n",
    "       n_jobs=-1, num_leaves=16, objective=None, random_state=None,\n",
    "       reg_alpha=0.1, reg_lambda=0.0, silent=True, subsample=0.8,\n",
    "       subsample_for_bin=200000, subsample_freq=1)"
   ]
  },
  {
   "cell_type": "code",
   "execution_count": 196,
   "metadata": {},
   "outputs": [
    {
     "name": "stdout",
     "output_type": "stream",
     "text": [
      "1.70761337411\n",
      "1.6792326855\n",
      "1.21714229079\n",
      "1.79440098592\n",
      "1.98860230649\n",
      "2.01986148381\n",
      "1.47491435085\n",
      "1.9177979796\n",
      "1.64041294175\n",
      "3.49843020117\n",
      "mean error    1.89384086\n"
     ]
    }
   ],
   "source": [
    "lk,lerr=cv_function(lrg,b2[a].iloc[:5640],label,b2[a].iloc[5640:],n=10)"
   ]
  },
  {
   "cell_type": "code",
   "execution_count": 197,
   "metadata": {},
   "outputs": [],
   "source": [
    "lerr1=[1/a for a in lerr]\n",
    "lerr1=lerr1/sum(lerr1)\n",
    "\n",
    "out_lgb=[lk[i]*lerr1[i] for i in range(len(lk))]\n",
    "\n",
    "out_lgb=sum(lk)/len(lk)"
   ]
  },
  {
   "cell_type": "code",
   "execution_count": null,
   "metadata": {},
   "outputs": [],
   "source": [
    "pd.DataFrame(linear_ensembel).to_csv('linear_ensembel_b.csv',index=False,header=False)"
   ]
  },
  {
   "cell_type": "markdown",
   "metadata": {},
   "source": [
    "## xgb 产生新特征 "
   ]
  },
  {
   "cell_type": "code",
   "execution_count": null,
   "metadata": {},
   "outputs": [],
   "source": [
    "gbdt=xgb.XGBRegressor(max_depth=4,learning_rate=0.06,\n",
    "n_estimators=180,nthread=-1,gamma=0.0,colsample_bytree=1,\n",
    "missing=-999,colsample_bylevel=1)"
   ]
  },
  {
   "cell_type": "code",
   "execution_count": null,
   "metadata": {},
   "outputs": [],
   "source": [
    "gbdt.fit(train1.iloc[:5642].fillna(-999),label)"
   ]
  },
  {
   "cell_type": "code",
   "execution_count": null,
   "metadata": {},
   "outputs": [],
   "source": [
    "tre=pd.DataFrame(gbdt.apply(train1.fillna(-999)))"
   ]
  },
  {
   "cell_type": "markdown",
   "metadata": {},
   "source": [
    "## 支持向量机模型 "
   ]
  },
  {
   "cell_type": "code",
   "execution_count": null,
   "metadata": {},
   "outputs": [],
   "source": [
    "svc= svm.SVC(probability=True)"
   ]
  },
  {
   "cell_type": "code",
   "execution_count": null,
   "metadata": {},
   "outputs": [],
   "source": [
    "svc.fit(x_sam,y_sam)"
   ]
  },
  {
   "cell_type": "code",
   "execution_count": null,
   "metadata": {},
   "outputs": [],
   "source": [
    "prob2=svc.predict(train2[:5642])"
   ]
  },
  {
   "cell_type": "code",
   "execution_count": null,
   "metadata": {},
   "outputs": [],
   "source": [
    "metrics.accuracy_score(b_g(label,10),prob2)"
   ]
  },
  {
   "cell_type": "code",
   "execution_count": null,
   "metadata": {},
   "outputs": [],
   "source": [
    "metrics.recall_score(b_g(label,10),prob2)"
   ]
  },
  {
   "cell_type": "code",
   "execution_count": null,
   "metadata": {},
   "outputs": [],
   "source": [
    "metrics.f1_score(b_g(label,10),prob2)"
   ]
  },
  {
   "cell_type": "code",
   "execution_count": null,
   "metadata": {},
   "outputs": [],
   "source": [
    "metrics.confusion_matrix(b_g(label,10),prob2)"
   ]
  },
  {
   "cell_type": "code",
   "execution_count": null,
   "metadata": {},
   "outputs": [],
   "source": [
    "Counter(prob2)"
   ]
  },
  {
   "cell_type": "code",
   "execution_count": null,
   "metadata": {},
   "outputs": [],
   "source": [
    "Counter(b_g(label,10))"
   ]
  },
  {
   "cell_type": "markdown",
   "metadata": {},
   "source": [
    "## voting"
   ]
  },
  {
   "cell_type": "code",
   "execution_count": null,
   "metadata": {},
   "outputs": [],
   "source": [
    "from sklearn.linear_model import SGDClassifier"
   ]
  },
  {
   "cell_type": "code",
   "execution_count": null,
   "metadata": {},
   "outputs": [],
   "source": [
    "svc= svm.SVC(probability=True)\n",
    "knn=neighbors.KNeighborsClassifier()\n",
    "xgbc=xgb.XGBClassifier(max_depth=6,learning_rate=0.1,\n",
    "n_estimators=261,nthread=-1,gamma=0.0,colsample_bytree=1,\n",
    "missing=-999,colsample_bylevel=1)\n",
    "sgd=SGDClassifier()"
   ]
  },
  {
   "cell_type": "code",
   "execution_count": null,
   "metadata": {},
   "outputs": [],
   "source": [
    "voting_clf = VotingClassifier( estimators=[(\"svc\",svc),('knn',knn),('xgbc',xgbc),('sgd',sgd)])"
   ]
  },
  {
   "cell_type": "code",
   "execution_count": null,
   "metadata": {},
   "outputs": [],
   "source": [
    "voting_clf.fit(x_sam,y_sam)"
   ]
  },
  {
   "cell_type": "code",
   "execution_count": null,
   "metadata": {},
   "outputs": [],
   "source": [
    "prob2=voting_clf.predict(train2[:5642])"
   ]
  },
  {
   "cell_type": "markdown",
   "metadata": {},
   "source": [
    "## KNN  算法 "
   ]
  },
  {
   "cell_type": "code",
   "execution_count": null,
   "metadata": {},
   "outputs": [],
   "source": [
    "knn=neighbors.KNeighborsClassifier()"
   ]
  },
  {
   "cell_type": "code",
   "execution_count": null,
   "metadata": {},
   "outputs": [],
   "source": [
    "knn.fit(x_sam,y_sam)"
   ]
  },
  {
   "cell_type": "code",
   "execution_count": null,
   "metadata": {},
   "outputs": [],
   "source": [
    "out_knn=knn.predict(train2[:5642])"
   ]
  },
  {
   "cell_type": "code",
   "execution_count": null,
   "metadata": {},
   "outputs": [],
   "source": [
    "Counter(out_knn)"
   ]
  },
  {
   "cell_type": "markdown",
   "metadata": {},
   "source": [
    "## 线性模型 "
   ]
  },
  {
   "cell_type": "code",
   "execution_count": 207,
   "metadata": {},
   "outputs": [],
   "source": [
    "reg = linear_model.RidgeCV(alphas=[0.1,50.0,100])"
   ]
  },
  {
   "cell_type": "code",
   "execution_count": 208,
   "metadata": {},
   "outputs": [
    {
     "data": {
      "text/plain": [
       "RidgeCV(alphas=[0.1, 50.0, 100], cv=None, fit_intercept=True, gcv_mode=None,\n",
       "    normalize=False, scoring=None, store_cv_values=False)"
      ]
     },
     "execution_count": 208,
     "metadata": {},
     "output_type": "execute_result"
    }
   ],
   "source": [
    "reg.fit(b2[corr[abs(corr['valu'])>0.132]['name']].iloc[:5640],label)"
   ]
  },
  {
   "cell_type": "code",
   "execution_count": 209,
   "metadata": {},
   "outputs": [
    {
     "data": {
      "text/plain": [
       "100.0"
      ]
     },
     "execution_count": 209,
     "metadata": {},
     "output_type": "execute_result"
    }
   ],
   "source": [
    "reg.alpha_"
   ]
  },
  {
   "cell_type": "code",
   "execution_count": null,
   "metadata": {},
   "outputs": [],
   "source": []
  },
  {
   "cell_type": "code",
   "execution_count": 210,
   "metadata": {},
   "outputs": [
    {
     "name": "stdout",
     "output_type": "stream",
     "text": [
      "1.27112560055\n",
      "2.42905177195\n",
      "4.35054929952\n",
      "1.34867010643\n",
      "1.42234158369\n",
      "2.22859646527\n",
      "2.28637701621\n",
      "1.80281829261\n",
      "1.39009051055\n",
      "1.41711746402\n",
      "mean error    1.99467381108\n"
     ]
    }
   ],
   "source": [
    "k,err=cv_function(reg,b2[corr[abs(corr['valu'])>0.145]['name']].iloc[:5640],label,b2[corr[abs(corr['valu'])>0.145]['name']].iloc[5640:],n=10)"
   ]
  },
  {
   "cell_type": "code",
   "execution_count": 226,
   "metadata": {},
   "outputs": [],
   "source": [
    "err1=[1/a for a in err]\n",
    "err1=err1/sum(err1)\n",
    "\n",
    "out_ridg=[(k[i])*err1[i] for i in range(len(k))]\n",
    "\n",
    "out_ridg=sum(k)/len(k)"
   ]
  },
  {
   "cell_type": "code",
   "execution_count": 229,
   "metadata": {},
   "outputs": [],
   "source": [
    "pd.DataFrame(out_fina).to_csv('ensem_linear_lgb_xgb_b_wu.csv',index=False,header=False)"
   ]
  },
  {
   "cell_type": "markdown",
   "metadata": {},
   "source": [
    "### elastic net\n"
   ]
  },
  {
   "cell_type": "code",
   "execution_count": 214,
   "metadata": {},
   "outputs": [],
   "source": [
    "regr=linear_model.ElasticNetCV(cv=5,l1_ratio=[.01,.1, .5, 1])"
   ]
  },
  {
   "cell_type": "code",
   "execution_count": 215,
   "metadata": {},
   "outputs": [
    {
     "data": {
      "text/plain": [
       "ElasticNetCV(alphas=None, copy_X=True, cv=5, eps=0.001, fit_intercept=True,\n",
       "       l1_ratio=[0.01, 0.1, 0.5, 1], max_iter=1000, n_alphas=100, n_jobs=1,\n",
       "       normalize=False, positive=False, precompute='auto',\n",
       "       random_state=None, selection='cyclic', tol=0.0001, verbose=0)"
      ]
     },
     "execution_count": 215,
     "metadata": {},
     "output_type": "execute_result"
    }
   ],
   "source": [
    "\n",
    "regr.fit(b2[corr[abs(corr['valu'])>0.132]['name']].iloc[:5640,:],label)"
   ]
  },
  {
   "cell_type": "code",
   "execution_count": 216,
   "metadata": {},
   "outputs": [
    {
     "data": {
      "text/plain": [
       "0.0053464163406754441"
      ]
     },
     "execution_count": 216,
     "metadata": {},
     "output_type": "execute_result"
    }
   ],
   "source": [
    "regr.alpha_"
   ]
  },
  {
   "cell_type": "code",
   "execution_count": 217,
   "metadata": {},
   "outputs": [
    {
     "name": "stdout",
     "output_type": "stream",
     "text": [
      "4.01450657814\n",
      "1.50598899301\n",
      "1.71941559419\n",
      "1.51929952177\n",
      "1.85361843225\n",
      "1.52433268845\n",
      "2.31264866223\n",
      "1.48283260762\n",
      "2.00527579064\n",
      "1.84348878522\n",
      "mean error    1.97814076535\n"
     ]
    }
   ],
   "source": [
    "k,err=cv_function(regr,b2[corr[abs(corr['valu'])>0.132]['name']].iloc[:5640,:],label,b2[corr[abs(corr['valu'])>0.132]['name']].iloc[5640:],n=10)"
   ]
  },
  {
   "cell_type": "code",
   "execution_count": 218,
   "metadata": {},
   "outputs": [],
   "source": [
    "err1=[1/a for a in err]\n",
    "err1=err1/sum(err1)\n",
    "\n",
    "out_ela=[(k[i])*err1[i] for i in range(len(k))]\n",
    "\n",
    "out_ela=sum(k)/len(k)"
   ]
  },
  {
   "cell_type": "markdown",
   "metadata": {},
   "source": [
    "## kernel ridge "
   ]
  },
  {
   "cell_type": "code",
   "execution_count": null,
   "metadata": {},
   "outputs": [],
   "source": [
    "krr=KernelRidge(alpha=100)"
   ]
  },
  {
   "cell_type": "code",
   "execution_count": null,
   "metadata": {},
   "outputs": [],
   "source": [
    "k,err=cv_function(krr,train2[:5641,:],np.log1p(label),train2[5641:,:],n=10)"
   ]
  },
  {
   "cell_type": "markdown",
   "metadata": {},
   "source": [
    "## lasso "
   ]
  },
  {
   "cell_type": "code",
   "execution_count": 220,
   "metadata": {},
   "outputs": [],
   "source": [
    "lasso=linear_model.LassoCV(alphas=[0.01,0.1,1,10])"
   ]
  },
  {
   "cell_type": "code",
   "execution_count": 222,
   "metadata": {},
   "outputs": [
    {
     "data": {
      "text/plain": [
       "LassoCV(alphas=[0.01, 0.1, 1, 10], copy_X=True, cv=None, eps=0.001,\n",
       "    fit_intercept=True, max_iter=1000, n_alphas=100, n_jobs=1,\n",
       "    normalize=False, positive=False, precompute='auto', random_state=None,\n",
       "    selection='cyclic', tol=0.0001, verbose=False)"
      ]
     },
     "execution_count": 222,
     "metadata": {},
     "output_type": "execute_result"
    }
   ],
   "source": [
    "lasso.fit(b2[corr[abs(corr['valu'])>0.15]['name']].iloc[:5640,:],label)"
   ]
  },
  {
   "cell_type": "code",
   "execution_count": null,
   "metadata": {},
   "outputs": [],
   "source": [
    "lasso.alpha_"
   ]
  },
  {
   "cell_type": "code",
   "execution_count": 223,
   "metadata": {},
   "outputs": [
    {
     "name": "stdout",
     "output_type": "stream",
     "text": [
      "1.38922333277\n",
      "2.42022998209\n",
      "1.74726305008\n",
      "3.84936983366\n",
      "2.25527802202\n",
      "1.86840441812\n",
      "1.69010845968\n",
      "1.57548155486\n",
      "1.01758204032\n",
      "2.04946073946\n",
      "mean error    1.98624014331\n"
     ]
    }
   ],
   "source": [
    "k,err=cv_function(lasso,b2[corr[abs(corr['valu'])>0.15]['name']].iloc[:5640,:],label,b2[corr[abs(corr['valu'])>0.15]['name']].iloc[5640:],n=10)"
   ]
  },
  {
   "cell_type": "code",
   "execution_count": 224,
   "metadata": {},
   "outputs": [],
   "source": [
    "err1=[1/a for a in err]\n",
    "err1=err1/sum(err1)\n",
    "\n",
    "out_las=[(k[i])*err1[i] for i in range(len(k))]\n",
    "\n",
    "out_las=sum(k)/len(k)"
   ]
  },
  {
   "cell_type": "code",
   "execution_count": null,
   "metadata": {},
   "outputs": [],
   "source": []
  },
  {
   "cell_type": "code",
   "execution_count": null,
   "metadata": {},
   "outputs": [],
   "source": []
  },
  {
   "cell_type": "code",
   "execution_count": null,
   "metadata": {},
   "outputs": [],
   "source": [
    "train1[impt[impt['importance']>2]['name']].iloc[:5642].shape"
   ]
  },
  {
   "cell_type": "code",
   "execution_count": null,
   "metadata": {},
   "outputs": [],
   "source": [
    "label.shape"
   ]
  },
  {
   "cell_type": "code",
   "execution_count": null,
   "metadata": {},
   "outputs": [],
   "source": [
    "train1.fillna(0,inplace=True)"
   ]
  },
  {
   "cell_type": "code",
   "execution_count": null,
   "metadata": {},
   "outputs": [],
   "source": [
    "train1.isnull().sum().sum()"
   ]
  },
  {
   "cell_type": "code",
   "execution_count": null,
   "metadata": {},
   "outputs": [],
   "source": [
    "np.max(train1.values)"
   ]
  },
  {
   "cell_type": "code",
   "execution_count": null,
   "metadata": {},
   "outputs": [],
   "source": [
    "pd.concat([impt,corr,corr1],axis=1)"
   ]
  },
  {
   "cell_type": "code",
   "execution_count": null,
   "metadata": {},
   "outputs": [],
   "source": [
    "corr1[corr1['valu']>0.089]['name']"
   ]
  },
  {
   "cell_type": "code",
   "execution_count": null,
   "metadata": {},
   "outputs": [],
   "source": []
  },
  {
   "cell_type": "code",
   "execution_count": null,
   "metadata": {},
   "outputs": [],
   "source": []
  },
  {
   "cell_type": "code",
   "execution_count": null,
   "metadata": {},
   "outputs": [],
   "source": []
  },
  {
   "cell_type": "code",
   "execution_count": null,
   "metadata": {},
   "outputs": [],
   "source": [
    "out=(out_ela+out_las+out_ridg)/3"
   ]
  },
  {
   "cell_type": "code",
   "execution_count": 227,
   "metadata": {},
   "outputs": [],
   "source": [
    "linear_ensembel=(out_ela+out_las+out_ridg)/3"
   ]
  },
  {
   "cell_type": "code",
   "execution_count": 228,
   "metadata": {},
   "outputs": [],
   "source": [
    "out_fina=(linear_ensembel+out_lgb+out_xgb)/3"
   ]
  },
  {
   "cell_type": "code",
   "execution_count": null,
   "metadata": {},
   "outputs": [],
   "source": [
    "out_ridg"
   ]
  },
  {
   "cell_type": "code",
   "execution_count": null,
   "metadata": {},
   "outputs": [],
   "source": []
  }
 ],
 "metadata": {
  "kernelspec": {
   "display_name": "Python 3",
   "language": "python",
   "name": "python3"
  },
  "language_info": {
   "codemirror_mode": {
    "name": "ipython",
    "version": 3
   },
   "file_extension": ".py",
   "mimetype": "text/x-python",
   "name": "python",
   "nbconvert_exporter": "python",
   "pygments_lexer": "ipython3",
   "version": "3.5.2"
  }
 },
 "nbformat": 4,
 "nbformat_minor": 2
}
